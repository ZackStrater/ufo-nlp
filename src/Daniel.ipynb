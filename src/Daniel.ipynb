{
 "cells": [
  {
   "cell_type": "code",
   "execution_count": 3,
   "metadata": {},
   "outputs": [],
   "source": [
    "import pandas as pd\n",
    "import numpy as np\n",
    "import matplotlib.pyplot as plt"
   ]
  },
  {
   "cell_type": "code",
   "execution_count": 4,
   "metadata": {},
   "outputs": [],
   "source": [
    "ufo = pd.read_json('../data/ufodata.json.zip', lines=True, chunksize = 10000)"
   ]
  },
  {
   "cell_type": "code",
   "execution_count": 8,
   "metadata": {
    "scrolled": true
   },
   "outputs": [
    {
     "ename": "ValueError",
     "evalue": "I/O operation on closed file.",
     "output_type": "error",
     "traceback": [
      "\u001b[0;31m---------------------------------------------------------------------------\u001b[0m",
      "\u001b[0;31mValueError\u001b[0m                                Traceback (most recent call last)",
      "\u001b[0;32m<ipython-input-8-e5e369518ea2>\u001b[0m in \u001b[0;36m<module>\u001b[0;34m\u001b[0m\n\u001b[1;32m      1\u001b[0m \u001b[0mchunk_list\u001b[0m \u001b[0;34m=\u001b[0m \u001b[0;34m[\u001b[0m\u001b[0;34m]\u001b[0m\u001b[0;34m\u001b[0m\u001b[0;34m\u001b[0m\u001b[0m\n\u001b[1;32m      2\u001b[0m \u001b[0;34m\u001b[0m\u001b[0m\n\u001b[0;32m----> 3\u001b[0;31m \u001b[0;32mfor\u001b[0m \u001b[0mchunk\u001b[0m \u001b[0;32min\u001b[0m \u001b[0mufo\u001b[0m\u001b[0;34m:\u001b[0m\u001b[0;34m\u001b[0m\u001b[0;34m\u001b[0m\u001b[0m\n\u001b[0m\u001b[1;32m      4\u001b[0m     \u001b[0mchunk_list\u001b[0m\u001b[0;34m.\u001b[0m\u001b[0mappend\u001b[0m\u001b[0;34m(\u001b[0m\u001b[0mchunk\u001b[0m\u001b[0;34m)\u001b[0m\u001b[0;34m\u001b[0m\u001b[0;34m\u001b[0m\u001b[0m\n\u001b[1;32m      5\u001b[0m \u001b[0;34m\u001b[0m\u001b[0m\n",
      "\u001b[0;32m~/anaconda3/lib/python3.7/site-packages/pandas/io/json/_json.py\u001b[0m in \u001b[0;36m__next__\u001b[0;34m(self)\u001b[0m\n\u001b[1;32m    739\u001b[0m                 \u001b[0;32mraise\u001b[0m \u001b[0mStopIteration\u001b[0m\u001b[0;34m\u001b[0m\u001b[0;34m\u001b[0m\u001b[0m\n\u001b[1;32m    740\u001b[0m \u001b[0;34m\u001b[0m\u001b[0m\n\u001b[0;32m--> 741\u001b[0;31m         \u001b[0mlines\u001b[0m \u001b[0;34m=\u001b[0m \u001b[0mlist\u001b[0m\u001b[0;34m(\u001b[0m\u001b[0mislice\u001b[0m\u001b[0;34m(\u001b[0m\u001b[0mself\u001b[0m\u001b[0;34m.\u001b[0m\u001b[0mdata\u001b[0m\u001b[0;34m,\u001b[0m \u001b[0mself\u001b[0m\u001b[0;34m.\u001b[0m\u001b[0mchunksize\u001b[0m\u001b[0;34m)\u001b[0m\u001b[0;34m)\u001b[0m\u001b[0;34m\u001b[0m\u001b[0;34m\u001b[0m\u001b[0m\n\u001b[0m\u001b[1;32m    742\u001b[0m         \u001b[0;32mif\u001b[0m \u001b[0mlines\u001b[0m\u001b[0;34m:\u001b[0m\u001b[0;34m\u001b[0m\u001b[0;34m\u001b[0m\u001b[0m\n\u001b[1;32m    743\u001b[0m             \u001b[0mlines_json\u001b[0m \u001b[0;34m=\u001b[0m \u001b[0mself\u001b[0m\u001b[0;34m.\u001b[0m\u001b[0m_combine_lines\u001b[0m\u001b[0;34m(\u001b[0m\u001b[0mlines\u001b[0m\u001b[0;34m)\u001b[0m\u001b[0;34m\u001b[0m\u001b[0;34m\u001b[0m\u001b[0m\n",
      "\u001b[0;31mValueError\u001b[0m: I/O operation on closed file."
     ]
    }
   ],
   "source": [
    "chunk_list = []\n",
    "\n",
    "for chunk in ufo:  \n",
    "    chunk_list.append(chunk)\n",
    "\n",
    "ufo_concat = pd.concat(chunk_list)\n"
   ]
  },
  {
   "cell_type": "code",
   "execution_count": 11,
   "metadata": {},
   "outputs": [
    {
     "data": {
      "text/html": [
       "<div>\n",
       "<style scoped>\n",
       "    .dataframe tbody tr th:only-of-type {\n",
       "        vertical-align: middle;\n",
       "    }\n",
       "\n",
       "    .dataframe tbody tr th {\n",
       "        vertical-align: top;\n",
       "    }\n",
       "\n",
       "    .dataframe thead th {\n",
       "        text-align: right;\n",
       "    }\n",
       "</style>\n",
       "<table border=\"1\" class=\"dataframe\">\n",
       "  <thead>\n",
       "    <tr style=\"text-align: right;\">\n",
       "      <th></th>\n",
       "      <th>_id</th>\n",
       "      <th>url</th>\n",
       "      <th>html</th>\n",
       "      <th>time</th>\n",
       "    </tr>\n",
       "  </thead>\n",
       "  <tbody>\n",
       "    <tr>\n",
       "      <th>20000</th>\n",
       "      <td>{'$oid': '59145c667c40e840c1242e0e'}</td>\n",
       "      <td>http://www.nuforc.org/webreports/110/S110910.h...</td>\n",
       "      <td>&lt;html xmlns:v=\"urn:schemas-microsoft-com:vml\"\\...</td>\n",
       "      <td>Thu May 11 12:43:18 2017</td>\n",
       "    </tr>\n",
       "    <tr>\n",
       "      <th>20001</th>\n",
       "      <td>{'$oid': '59145c687c40e840c1242e0f'}</td>\n",
       "      <td>http://www.nuforc.org/webreports/110/S110742.h...</td>\n",
       "      <td>&lt;html xmlns:v=\"urn:schemas-microsoft-com:vml\"\\...</td>\n",
       "      <td>Thu May 11 12:43:20 2017</td>\n",
       "    </tr>\n",
       "    <tr>\n",
       "      <th>20002</th>\n",
       "      <td>{'$oid': '59145c6b7c40e840c1242e10'}</td>\n",
       "      <td>http://www.nuforc.org/webreports/110/S110765.h...</td>\n",
       "      <td>&lt;html xmlns:v=\"urn:schemas-microsoft-com:vml\"\\...</td>\n",
       "      <td>Thu May 11 12:43:23 2017</td>\n",
       "    </tr>\n",
       "    <tr>\n",
       "      <th>20003</th>\n",
       "      <td>{'$oid': '59145c6e7c40e840c1242e11'}</td>\n",
       "      <td>http://www.nuforc.org/webreports/110/S110764.h...</td>\n",
       "      <td>&lt;html xmlns:v=\"urn:schemas-microsoft-com:vml\"\\...</td>\n",
       "      <td>Thu May 11 12:43:26 2017</td>\n",
       "    </tr>\n",
       "    <tr>\n",
       "      <th>20004</th>\n",
       "      <td>{'$oid': '59145c707c40e840c1242e12'}</td>\n",
       "      <td>http://www.nuforc.org/webreports/110/S110763.h...</td>\n",
       "      <td>&lt;html xmlns:v=\"urn:schemas-microsoft-com:vml\"\\...</td>\n",
       "      <td>Thu May 11 12:43:28 2017</td>\n",
       "    </tr>\n",
       "  </tbody>\n",
       "</table>\n",
       "</div>"
      ],
      "text/plain": [
       "                                        _id  \\\n",
       "20000  {'$oid': '59145c667c40e840c1242e0e'}   \n",
       "20001  {'$oid': '59145c687c40e840c1242e0f'}   \n",
       "20002  {'$oid': '59145c6b7c40e840c1242e10'}   \n",
       "20003  {'$oid': '59145c6e7c40e840c1242e11'}   \n",
       "20004  {'$oid': '59145c707c40e840c1242e12'}   \n",
       "\n",
       "                                                     url  \\\n",
       "20000  http://www.nuforc.org/webreports/110/S110910.h...   \n",
       "20001  http://www.nuforc.org/webreports/110/S110742.h...   \n",
       "20002  http://www.nuforc.org/webreports/110/S110765.h...   \n",
       "20003  http://www.nuforc.org/webreports/110/S110764.h...   \n",
       "20004  http://www.nuforc.org/webreports/110/S110763.h...   \n",
       "\n",
       "                                                    html  \\\n",
       "20000  <html xmlns:v=\"urn:schemas-microsoft-com:vml\"\\...   \n",
       "20001  <html xmlns:v=\"urn:schemas-microsoft-com:vml\"\\...   \n",
       "20002  <html xmlns:v=\"urn:schemas-microsoft-com:vml\"\\...   \n",
       "20003  <html xmlns:v=\"urn:schemas-microsoft-com:vml\"\\...   \n",
       "20004  <html xmlns:v=\"urn:schemas-microsoft-com:vml\"\\...   \n",
       "\n",
       "                           time  \n",
       "20000  Thu May 11 12:43:18 2017  \n",
       "20001  Thu May 11 12:43:20 2017  \n",
       "20002  Thu May 11 12:43:23 2017  \n",
       "20003  Thu May 11 12:43:26 2017  \n",
       "20004  Thu May 11 12:43:28 2017  "
      ]
     },
     "execution_count": 11,
     "metadata": {},
     "output_type": "execute_result"
    }
   ],
   "source": [
    "\n",
    "ufo_concat.head()"
   ]
  },
  {
   "cell_type": "code",
   "execution_count": 13,
   "metadata": {},
   "outputs": [
    {
     "data": {
      "text/plain": [
       "'<html xmlns:v=\"urn:schemas-microsoft-com:vml\"\\r\\nxmlns:o=\"urn:schemas-microsoft-com:office:office\"\\r\\nxmlns:w=\"urn:schemas-microsoft-com:office:word\"\\r\\nxmlns:m=\"http://schemas.microsoft.com/office/2004/12/omml\"\\r\\nxmlns=\"http://www.w3.org/TR/REC-html40\">\\r\\n\\r\\n<head>\\r\\n<meta http-equiv=Content-Type content=\"text/html; charset=windows-1252\">\\r\\n<meta name=ProgId content=Word.Document>\\r\\n<meta name=Generator content=\"Microsoft Word 15\">\\r\\n<meta name=Originator content=\"Microsoft Word 15\">\\r\\n<link rel=File-List href=\"STemplate_files/filelist.xml\">\\r\\n<!--[if gte mso 9]><xml>\\r\\n <o:DocumentProperties>\\r\\n  <o:Author>Christian Stepien</o:Author>\\r\\n  <o:LastAuthor>Christian Stepien</o:LastAuthor>\\r\\n  <o:Revision>3</o:Revision>\\r\\n  <o:TotalTime>1</o:TotalTime>\\r\\n  <o:Created>2014-02-14T21:30:00Z</o:Created>\\r\\n  <o:LastSaved>2014-02-14T21:35:00Z</o:LastSaved>\\r\\n  <o:Pages>1</o:Pages>\\r\\n  <o:Words>58</o:Words>\\r\\n  <o:Characters>331</o:Characters>\\r\\n  <o:Lines>2</o:Lines>\\r\\n  <o:Paragraphs>1</o:Paragraphs>\\r\\n  <o:CharactersWithSpaces>388</o:CharactersWithSpaces>\\r\\n  <o:Version>15.00</o:Version>\\r\\n </o:DocumentProperties>\\r\\n <o:OfficeDocumentSettings>\\r\\n  <o:AllowPNG/>\\r\\n </o:OfficeDocumentSettings>\\r\\n</xml><![endif]-->\\r\\n<link rel=themeData href=\"STemplate_files/themedata.thmx\">\\r\\n<link rel=colorSchemeMapping href=\"STemplate_files/colorschememapping.xml\">\\r\\n<!--[if gte mso 9]><xml>\\r\\n <w:WordDocument>\\r\\n  <w:View>Print</w:View>\\r\\n  <w:SpellingState>Clean</w:SpellingState>\\r\\n  <w:GrammarState>Clean</w:GrammarState>\\r\\n  <w:TrackMoves>false</w:TrackMoves>\\r\\n  <w:TrackFormatting/>\\r\\n  <w:ValidateAgainstSchemas/>\\r\\n  <w:SaveIfXMLInvalid>false</w:SaveIfXMLInvalid>\\r\\n  <w:IgnoreMixedContent>false</w:IgnoreMixedContent>\\r\\n  <w:AlwaysShowPlaceholderText>false</w:AlwaysShowPlaceholderText>\\r\\n  <w:DoNotPromoteQF/>\\r\\n  <w:LidThemeOther>EN-US</w:LidThemeOther>\\r\\n  <w:LidThemeAsian>X-NONE</w:LidThemeAsian>\\r\\n  <w:LidThemeComplexScript>X-NONE</w:LidThemeComplexScript>\\r\\n  <w:Compatibility>\\r\\n   <w:BreakWrappedTables/>\\r\\n   <w:SplitPgBreakAndParaMark/>\\r\\n  </w:Compatibility>\\r\\n  <w:BrowserLevel>MicrosoftInternetExplorer4</w:BrowserLevel>\\r\\n  <m:mathPr>\\r\\n   <m:mathFont m:val=\"Cambria Math\"/>\\r\\n   <m:brkBin m:val=\"before\"/>\\r\\n   <m:brkBinSub m:val=\"&#45;-\"/>\\r\\n   <m:smallFrac m:val=\"off\"/>\\r\\n   <m:dispDef/>\\r\\n   <m:lMargin m:val=\"0\"/>\\r\\n   <m:rMargin m:val=\"0\"/>\\r\\n   <m:defJc m:val=\"centerGroup\"/>\\r\\n   <m:wrapIndent m:val=\"1440\"/>\\r\\n   <m:intLim m:val=\"subSup\"/>\\r\\n   <m:naryLim m:val=\"undOvr\"/>\\r\\n  </m:mathPr></w:WordDocument>\\r\\n</xml><![endif]--><!--[if gte mso 9]><xml>\\r\\n <w:LatentStyles DefLockedState=\"false\" DefUnhideWhenUsed=\"false\"\\r\\n  DefSemiHidden=\"false\" DefQFormat=\"false\" DefPriority=\"99\"\\r\\n  LatentStyleCount=\"371\">\\r\\n  <w:LsdException Locked=\"false\" Priority=\"0\" QFormat=\"true\" Name=\"Normal\"/>\\r\\n  <w:LsdException Locked=\"false\" Priority=\"9\" QFormat=\"true\" Name=\"heading 1\"/>\\r\\n  <w:LsdException Locked=\"false\" Priority=\"9\" SemiHidden=\"true\"\\r\\n   UnhideWhenUsed=\"true\" QFormat=\"true\" Name=\"heading 2\"/>\\r\\n  <w:LsdException Locked=\"false\" Priority=\"9\" SemiHidden=\"true\"\\r\\n   UnhideWhenUsed=\"true\" QFormat=\"true\" Name=\"heading 3\"/>\\r\\n  <w:LsdException Locked=\"false\" Priority=\"9\" SemiHidden=\"true\"\\r\\n   UnhideWhenUsed=\"true\" QFormat=\"true\" Name=\"heading 4\"/>\\r\\n  <w:LsdException Locked=\"false\" Priority=\"9\" SemiHidden=\"true\"\\r\\n   UnhideWhenUsed=\"true\" QFormat=\"true\" Name=\"heading 5\"/>\\r\\n  <w:LsdException Locked=\"false\" Priority=\"9\" SemiHidden=\"true\"\\r\\n   UnhideWhenUsed=\"true\" QFormat=\"true\" Name=\"heading 6\"/>\\r\\n  <w:LsdException Locked=\"false\" Priority=\"9\" SemiHidden=\"true\"\\r\\n   UnhideWhenUsed=\"true\" QFormat=\"true\" Name=\"heading 7\"/>\\r\\n  <w:LsdException Locked=\"false\" Priority=\"9\" SemiHidden=\"true\"\\r\\n   UnhideWhenUsed=\"true\" QFormat=\"true\" Name=\"heading 8\"/>\\r\\n  <w:LsdException Locked=\"false\" Priority=\"9\" SemiHidden=\"true\"\\r\\n   UnhideWhenUsed=\"true\" QFormat=\"true\" Name=\"heading 9\"/>\\r\\n  <w:LsdException Locked=\"false\" SemiHidden=\"true\" UnhideWhenUsed=\"true\"\\r\\n   Name=\"index 1\"/>\\r\\n  <w:LsdException Locked=\"false\" SemiHidden=\"true\" UnhideWhenUsed=\"true\"\\r\\n   Name=\"index 2\"/>\\r\\n  <w:LsdException Locked=\"false\" SemiHidden=\"true\" UnhideWhenUsed=\"true\"\\r\\n   Name=\"index 3\"/>\\r\\n  <w:LsdException Locked=\"false\" SemiHidden=\"true\" UnhideWhenUsed=\"true\"\\r\\n   Name=\"index 4\"/>\\r\\n  <w:LsdException Locked=\"false\" SemiHidden=\"true\" UnhideWhenUsed=\"true\"\\r\\n   Name=\"index 5\"/>\\r\\n  <w:LsdException Locked=\"false\" SemiHidden=\"true\" UnhideWhenUsed=\"true\"\\r\\n   Name=\"index 6\"/>\\r\\n  <w:LsdException Locked=\"false\" SemiHidden=\"true\" UnhideWhenUsed=\"true\"\\r\\n   Name=\"index 7\"/>\\r\\n  <w:LsdException Locked=\"false\" SemiHidden=\"true\" UnhideWhenUsed=\"true\"\\r\\n   Name=\"index 8\"/>\\r\\n  <w:LsdException Locked=\"false\" SemiHidden=\"true\" UnhideWhenUsed=\"true\"\\r\\n   Name=\"index 9\"/>\\r\\n  <w:LsdException Locked=\"false\" Priority=\"39\" SemiHidden=\"true\"\\r\\n   UnhideWhenUsed=\"true\" Name=\"toc 1\"/>\\r\\n  <w:LsdException Locked=\"false\" Priority=\"39\" SemiHidden=\"true\"\\r\\n   UnhideWhenUsed=\"true\" Name=\"toc 2\"/>\\r\\n  <w:LsdException Locked=\"false\" Priority=\"39\" SemiHidden=\"true\"\\r\\n   UnhideWhenUsed=\"true\" Name=\"toc 3\"/>\\r\\n  <w:LsdException Locked=\"false\" Priority=\"39\" SemiHidden=\"true\"\\r\\n   UnhideWhenUsed=\"true\" Name=\"toc 4\"/>\\r\\n  <w:LsdException Locked=\"false\" Priority=\"39\" SemiHidden=\"true\"\\r\\n   UnhideWhenUsed=\"true\" Name=\"toc 5\"/>\\r\\n  <w:LsdException Locked=\"false\" Priority=\"39\" SemiHidden=\"true\"\\r\\n   UnhideWhenUsed=\"true\" Name=\"toc 6\"/>\\r\\n  <w:LsdException Locked=\"false\" Priority=\"39\" SemiHidden=\"true\"\\r\\n   UnhideWhenUsed=\"true\" Name=\"toc 7\"/>\\r\\n  <w:LsdException Locked=\"false\" Priority=\"39\" SemiHidden=\"true\"\\r\\n   UnhideWhenUsed=\"true\" Name=\"toc 8\"/>\\r\\n  <w:LsdException Locked=\"false\" Priority=\"39\" SemiHidden=\"true\"\\r\\n   UnhideWhenUsed=\"true\" Name=\"toc 9\"/>\\r\\n  <w:LsdException Locked=\"false\" SemiHidden=\"true\" UnhideWhenUsed=\"true\"\\r\\n   Name=\"Normal Indent\"/>\\r\\n  <w:LsdException Locked=\"false\" SemiHidden=\"true\" UnhideWhenUsed=\"true\"\\r\\n   Name=\"footnote text\"/>\\r\\n  <w:LsdException Locked=\"false\" SemiHidden=\"true\" UnhideWhenUsed=\"true\"\\r\\n   Name=\"annotation text\"/>\\r\\n  <w:LsdException Locked=\"false\" SemiHidden=\"true\" UnhideWhenUsed=\"true\"\\r\\n   Name=\"header\"/>\\r\\n  <w:LsdException Locked=\"false\" SemiHidden=\"true\" UnhideWhenUsed=\"true\"\\r\\n   Name=\"footer\"/>\\r\\n  <w:LsdException Locked=\"false\" SemiHidden=\"true\" UnhideWhenUsed=\"true\"\\r\\n   Name=\"index heading\"/>\\r\\n  <w:LsdException Locked=\"false\" Priority=\"35\" SemiHidden=\"true\"\\r\\n   UnhideWhenUsed=\"true\" QFormat=\"true\" Name=\"caption\"/>\\r\\n  <w:LsdException Locked=\"false\" SemiHidden=\"true\" UnhideWhenUsed=\"true\"\\r\\n   Name=\"table of figures\"/>\\r\\n  <w:LsdException Locked=\"false\" SemiHidden=\"true\" UnhideWhenUsed=\"true\"\\r\\n   Name=\"envelope address\"/>\\r\\n  <w:LsdException Locked=\"false\" SemiHidden=\"true\" UnhideWhenUsed=\"true\"\\r\\n   Name=\"envelope return\"/>\\r\\n  <w:LsdException Locked=\"false\" SemiHidden=\"true\" UnhideWhenUsed=\"true\"\\r\\n   Name=\"footnote reference\"/>\\r\\n  <w:LsdException Locked=\"false\" SemiHidden=\"true\" UnhideWhenUsed=\"true\"\\r\\n   Name=\"annotation reference\"/>\\r\\n  <w:LsdException Locked=\"false\" SemiHidden=\"true\" UnhideWhenUsed=\"true\"\\r\\n   Name=\"line number\"/>\\r\\n  <w:LsdException Locked=\"false\" SemiHidden=\"true\" UnhideWhenUsed=\"true\"\\r\\n   Name=\"page number\"/>\\r\\n  <w:LsdException Locked=\"false\" SemiHidden=\"true\" UnhideWhenUsed=\"true\"\\r\\n   Name=\"endnote reference\"/>\\r\\n  <w:LsdException Locked=\"false\" SemiHidden=\"true\" UnhideWhenUsed=\"true\"\\r\\n   Name=\"endnote text\"/>\\r\\n  <w:LsdException Locked=\"false\" SemiHidden=\"true\" UnhideWhenUsed=\"true\"\\r\\n   Name=\"table of authorities\"/>\\r\\n  <w:LsdException Locked=\"false\" SemiHidden=\"true\" UnhideWhenUsed=\"true\"\\r\\n   Name=\"macro\"/>\\r\\n  <w:LsdException Locked=\"false\" SemiHidden=\"true\" UnhideWhenUsed=\"true\"\\r\\n   Name=\"toa heading\"/>\\r\\n  <w:LsdException Locked=\"false\" SemiHidden=\"true\" UnhideWhenUsed=\"true\"\\r\\n   Name=\"List\"/>\\r\\n  <w:LsdException Locked=\"false\" SemiHidden=\"true\" UnhideWhenUsed=\"true\"\\r\\n   Name=\"List Bullet\"/>\\r\\n  <w:LsdException Locked=\"false\" SemiHidden=\"true\" UnhideWhenUsed=\"true\"\\r\\n   Name=\"List Number\"/>\\r\\n  <w:LsdException Locked=\"false\" SemiHidden=\"true\" UnhideWhenUsed=\"true\"\\r\\n   Name=\"List 2\"/>\\r\\n  <w:LsdException Locked=\"false\" SemiHidden=\"true\" UnhideWhenUsed=\"true\"\\r\\n   Name=\"List 3\"/>\\r\\n  <w:LsdException Locked=\"false\" SemiHidden=\"true\" UnhideWhenUsed=\"true\"\\r\\n   Name=\"List 4\"/>\\r\\n  <w:LsdException Locked=\"false\" SemiHidden=\"true\" UnhideWhenUsed=\"true\"\\r\\n   Name=\"List 5\"/>\\r\\n  <w:LsdException Locked=\"false\" SemiHidden=\"true\" UnhideWhenUsed=\"true\"\\r\\n   Name=\"List Bullet 2\"/>\\r\\n  <w:LsdException Locked=\"false\" SemiHidden=\"true\" UnhideWhenUsed=\"true\"\\r\\n   Name=\"List Bullet 3\"/>\\r\\n  <w:LsdException Locked=\"false\" SemiHidden=\"true\" UnhideWhenUsed=\"true\"\\r\\n   Name=\"List Bullet 4\"/>\\r\\n  <w:LsdException Locked=\"false\" SemiHidden=\"true\" UnhideWhenUsed=\"true\"\\r\\n   Name=\"List Bullet 5\"/>\\r\\n  <w:LsdException Locked=\"false\" SemiHidden=\"true\" UnhideWhenUsed=\"true\"\\r\\n   Name=\"List Number 2\"/>\\r\\n  <w:LsdException Locked=\"false\" SemiHidden=\"true\" UnhideWhenUsed=\"true\"\\r\\n   Name=\"List Number 3\"/>\\r\\n  <w:LsdException Locked=\"false\" SemiHidden=\"true\" UnhideWhenUsed=\"true\"\\r\\n   Name=\"List Number 4\"/>\\r\\n  <w:LsdException Locked=\"false\" SemiHidden=\"true\" UnhideWhenUsed=\"true\"\\r\\n   Name=\"List Number 5\"/>\\r\\n  <w:LsdException Locked=\"false\" Priority=\"10\" QFormat=\"true\" Name=\"Title\"/>\\r\\n  <w:LsdException Locked=\"false\" SemiHidden=\"true\" UnhideWhenUsed=\"true\"\\r\\n   Name=\"Closing\"/>\\r\\n  <w:LsdException Locked=\"false\" SemiHidden=\"true\" UnhideWhenUsed=\"true\"\\r\\n   Name=\"Signature\"/>\\r\\n  <w:LsdException Locked=\"false\" Priority=\"1\" SemiHidden=\"true\"\\r\\n   UnhideWhenUsed=\"true\" Name=\"Default Paragraph Font\"/>\\r\\n  <w:LsdException Locked=\"false\" SemiHidden=\"true\" UnhideWhenUsed=\"true\"\\r\\n   Name=\"Body Text\"/>\\r\\n  <w:LsdException Locked=\"false\" SemiHidden=\"true\" UnhideWhenUsed=\"true\"\\r\\n   Name=\"Body Text Indent\"/>\\r\\n  <w:LsdException Locked=\"false\" SemiHidden=\"true\" UnhideWhenUsed=\"true\"\\r\\n   Name=\"List Continue\"/>\\r\\n  <w:LsdException Locked=\"false\" SemiHidden=\"true\" UnhideWhenUsed=\"true\"\\r\\n   Name=\"List Continue 2\"/>\\r\\n  <w:LsdException Locked=\"false\" SemiHidden=\"true\" UnhideWhenUsed=\"true\"\\r\\n   Name=\"List Continue 3\"/>\\r\\n  <w:LsdException Locked=\"false\" SemiHidden=\"true\" UnhideWhenUsed=\"true\"\\r\\n   Name=\"List Continue 4\"/>\\r\\n  <w:LsdException Locked=\"false\" SemiHidden=\"true\" UnhideWhenUsed=\"true\"\\r\\n   Name=\"List Continue 5\"/>\\r\\n  <w:LsdException Locked=\"false\" SemiHidden=\"true\" UnhideWhenUsed=\"true\"\\r\\n   Name=\"Message Header\"/>\\r\\n  <w:LsdException Locked=\"false\" Priority=\"11\" QFormat=\"true\" Name=\"Subtitle\"/>\\r\\n  <w:LsdException Locked=\"false\" SemiHidden=\"true\" UnhideWhenUsed=\"true\"\\r\\n   Name=\"Salutation\"/>\\r\\n  <w:LsdException Locked=\"false\" SemiHidden=\"true\" UnhideWhenUsed=\"true\"\\r\\n   Name=\"Date\"/>\\r\\n  <w:LsdException Locked=\"false\" SemiHidden=\"true\" UnhideWhenUsed=\"true\"\\r\\n   Name=\"Body Text First Indent\"/>\\r\\n  <w:LsdException Locked=\"false\" SemiHidden=\"true\" UnhideWhenUsed=\"true\"\\r\\n   Name=\"Body Text First Indent 2\"/>\\r\\n  <w:LsdException Locked=\"false\" SemiHidden=\"true\" UnhideWhenUsed=\"true\"\\r\\n   Name=\"Note Heading\"/>\\r\\n  <w:LsdException Locked=\"false\" SemiHidden=\"true\" UnhideWhenUsed=\"true\"\\r\\n   Name=\"Body Text 2\"/>\\r\\n  <w:LsdException Locked=\"false\" SemiHidden=\"true\" UnhideWhenUsed=\"true\"\\r\\n   Name=\"Body Text 3\"/>\\r\\n  <w:LsdException Locked=\"false\" SemiHidden=\"true\" UnhideWhenUsed=\"true\"\\r\\n   Name=\"Body Text Indent 2\"/>\\r\\n  <w:LsdException Locked=\"false\" SemiHidden=\"true\" UnhideWhenUsed=\"true\"\\r\\n   Name=\"Body Text Indent 3\"/>\\r\\n  <w:LsdException Locked=\"false\" SemiHidden=\"true\" UnhideWhenUsed=\"true\"\\r\\n   Name=\"Block Text\"/>\\r\\n  <w:LsdException Locked=\"false\" SemiHidden=\"true\" UnhideWhenUsed=\"true\"\\r\\n   Name=\"Hyperlink\"/>\\r\\n  <w:LsdException Locked=\"false\" SemiHidden=\"true\" UnhideWhenUsed=\"true\"\\r\\n   Name=\"FollowedHyperlink\"/>\\r\\n  <w:LsdException Locked=\"false\" Priority=\"22\" QFormat=\"true\" Name=\"Strong\"/>\\r\\n  <w:LsdException Locked=\"false\" Priority=\"20\" QFormat=\"true\" Name=\"Emphasis\"/>\\r\\n  <w:LsdException Locked=\"false\" SemiHidden=\"true\" UnhideWhenUsed=\"true\"\\r\\n   Name=\"Document Map\"/>\\r\\n  <w:LsdException Locked=\"false\" SemiHidden=\"true\" UnhideWhenUsed=\"true\"\\r\\n   Name=\"Plain Text\"/>\\r\\n  <w:LsdException Locked=\"false\" SemiHidden=\"true\" UnhideWhenUsed=\"true\"\\r\\n   Name=\"E-mail Signature\"/>\\r\\n  <w:LsdException Locked=\"false\" SemiHidden=\"true\" UnhideWhenUsed=\"true\"\\r\\n   Name=\"HTML Top of Form\"/>\\r\\n  <w:LsdException Locked=\"false\" SemiHidden=\"true\" UnhideWhenUsed=\"true\"\\r\\n   Name=\"HTML Bottom of Form\"/>\\r\\n  <w:LsdException Locked=\"false\" SemiHidden=\"true\" UnhideWhenUsed=\"true\"\\r\\n   Name=\"Normal (Web)\"/>\\r\\n  <w:LsdException Locked=\"false\" SemiHidden=\"true\" UnhideWhenUsed=\"true\"\\r\\n   Name=\"HTML Acronym\"/>\\r\\n  <w:LsdException Locked=\"false\" SemiHidden=\"true\" UnhideWhenUsed=\"true\"\\r\\n   Name=\"HTML Address\"/>\\r\\n  <w:LsdException Locked=\"false\" SemiHidden=\"true\" UnhideWhenUsed=\"true\"\\r\\n   Name=\"HTML Cite\"/>\\r\\n  <w:LsdException Locked=\"false\" SemiHidden=\"true\" UnhideWhenUsed=\"true\"\\r\\n   Name=\"HTML Code\"/>\\r\\n  <w:LsdException Locked=\"false\" SemiHidden=\"true\" UnhideWhenUsed=\"true\"\\r\\n   Name=\"HTML Definition\"/>\\r\\n  <w:LsdException Locked=\"false\" SemiHidden=\"true\" UnhideWhenUsed=\"true\"\\r\\n   Name=\"HTML Keyboard\"/>\\r\\n  <w:LsdException Locked=\"false\" SemiHidden=\"true\" UnhideWhenUsed=\"true\"\\r\\n   Name=\"HTML Preformatted\"/>\\r\\n  <w:LsdException Locked=\"false\" SemiHidden=\"true\" UnhideWhenUsed=\"true\"\\r\\n   Name=\"HTML Sample\"/>\\r\\n  <w:LsdException Locked=\"false\" SemiHidden=\"true\" UnhideWhenUsed=\"true\"\\r\\n   Name=\"HTML Typewriter\"/>\\r\\n  <w:LsdException Locked=\"false\" SemiHidden=\"true\" UnhideWhenUsed=\"true\"\\r\\n   Name=\"HTML Variable\"/>\\r\\n  <w:LsdException Locked=\"false\" SemiHidden=\"true\" UnhideWhenUsed=\"true\"\\r\\n   Name=\"Normal Table\"/>\\r\\n  <w:LsdException Locked=\"false\" SemiHidden=\"true\" UnhideWhenUsed=\"true\"\\r\\n   Name=\"annotation subject\"/>\\r\\n  <w:LsdException Locked=\"false\" SemiHidden=\"true\" UnhideWhenUsed=\"true\"\\r\\n   Name=\"No List\"/>\\r\\n  <w:LsdException Locked=\"false\" SemiHidden=\"true\" UnhideWhenUsed=\"true\"\\r\\n   Name=\"Outline List 1\"/>\\r\\n  <w:LsdException Locked=\"false\" SemiHidden=\"true\" UnhideWhenUsed=\"true\"\\r\\n   Name=\"Outline List 2\"/>\\r\\n  <w:LsdException Locked=\"false\" SemiHidden=\"true\" UnhideWhenUsed=\"true\"\\r\\n   Name=\"Outline List 3\"/>\\r\\n  <w:LsdException Locked=\"false\" SemiHidden=\"true\" UnhideWhenUsed=\"true\"\\r\\n   Name=\"Table Simple 1\"/>\\r\\n  <w:LsdException Locked=\"false\" SemiHidden=\"true\" UnhideWhenUsed=\"true\"\\r\\n   Name=\"Table Simple 2\"/>\\r\\n  <w:LsdException Locked=\"false\" SemiHidden=\"true\" UnhideWhenUsed=\"true\"\\r\\n   Name=\"Table Simple 3\"/>\\r\\n  <w:LsdException Locked=\"false\" SemiHidden=\"true\" UnhideWhenUsed=\"true\"\\r\\n   Name=\"Table Classic 1\"/>\\r\\n  <w:LsdException Locked=\"false\" SemiHidden=\"true\" UnhideWhenUsed=\"true\"\\r\\n   Name=\"Table Classic 2\"/>\\r\\n  <w:LsdException Locked=\"false\" SemiHidden=\"true\" UnhideWhenUsed=\"true\"\\r\\n   Name=\"Table Classic 3\"/>\\r\\n  <w:LsdException Locked=\"false\" SemiHidden=\"true\" UnhideWhenUsed=\"true\"\\r\\n   Name=\"Table Classic 4\"/>\\r\\n  <w:LsdException Locked=\"false\" SemiHidden=\"true\" UnhideWhenUsed=\"true\"\\r\\n   Name=\"Table Colorful 1\"/>\\r\\n  <w:LsdException Locked=\"false\" SemiHidden=\"true\" UnhideWhenUsed=\"true\"\\r\\n   Name=\"Table Colorful 2\"/>\\r\\n  <w:LsdException Locked=\"false\" SemiHidden=\"true\" UnhideWhenUsed=\"true\"\\r\\n   Name=\"Table Colorful 3\"/>\\r\\n  <w:LsdException Locked=\"false\" SemiHidden=\"true\" UnhideWhenUsed=\"true\"\\r\\n   Name=\"Table Columns 1\"/>\\r\\n  <w:LsdException Locked=\"false\" SemiHidden=\"true\" UnhideWhenUsed=\"true\"\\r\\n   Name=\"Table Columns 2\"/>\\r\\n  <w:LsdException Locked=\"false\" SemiHidden=\"true\" UnhideWhenUsed=\"true\"\\r\\n   Name=\"Table Columns 3\"/>\\r\\n  <w:LsdException Locked=\"false\" SemiHidden=\"true\" UnhideWhenUsed=\"true\"\\r\\n   Name=\"Table Columns 4\"/>\\r\\n  <w:LsdException Locked=\"false\" SemiHidden=\"true\" UnhideWhenUsed=\"true\"\\r\\n   Name=\"Table Columns 5\"/>\\r\\n  <w:LsdException Locked=\"false\" SemiHidden=\"true\" UnhideWhenUsed=\"true\"\\r\\n   Name=\"Table Grid 1\"/>\\r\\n  <w:LsdException Locked=\"false\" SemiHidden=\"true\" UnhideWhenUsed=\"true\"\\r\\n   Name=\"Table Grid 2\"/>\\r\\n  <w:LsdException Locked=\"false\" SemiHidden=\"true\" UnhideWhenUsed=\"true\"\\r\\n   Name=\"Table Grid 3\"/>\\r\\n  <w:LsdException Locked=\"false\" SemiHidden=\"true\" UnhideWhenUsed=\"true\"\\r\\n   Name=\"Table Grid 4\"/>\\r\\n  <w:LsdException Locked=\"false\" SemiHidden=\"true\" UnhideWhenUsed=\"true\"\\r\\n   Name=\"Table Grid 5\"/>\\r\\n  <w:LsdException Locked=\"false\" SemiHidden=\"true\" UnhideWhenUsed=\"true\"\\r\\n   Name=\"Table Grid 6\"/>\\r\\n  <w:LsdException Locked=\"false\" SemiHidden=\"true\" UnhideWhenUsed=\"true\"\\r\\n   Name=\"Table Grid 7\"/>\\r\\n  <w:LsdException Locked=\"false\" SemiHidden=\"true\" UnhideWhenUsed=\"true\"\\r\\n   Name=\"Table Grid 8\"/>\\r\\n  <w:LsdException Locked=\"false\" SemiHidden=\"true\" UnhideWhenUsed=\"true\"\\r\\n   Name=\"Table List 1\"/>\\r\\n  <w:LsdException Locked=\"false\" SemiHidden=\"true\" UnhideWhenUsed=\"true\"\\r\\n   Name=\"Table List 2\"/>\\r\\n  <w:LsdException Locked=\"false\" SemiHidden=\"true\" UnhideWhenUsed=\"true\"\\r\\n   Name=\"Table List 3\"/>\\r\\n  <w:LsdException Locked=\"false\" SemiHidden=\"true\" UnhideWhenUsed=\"true\"\\r\\n   Name=\"Table List 4\"/>\\r\\n  <w:LsdException Locked=\"false\" SemiHidden=\"true\" UnhideWhenUsed=\"true\"\\r\\n   Name=\"Table List 5\"/>\\r\\n  <w:LsdException Locked=\"false\" SemiHidden=\"true\" UnhideWhenUsed=\"true\"\\r\\n   Name=\"Table List 6\"/>\\r\\n  <w:LsdException Locked=\"false\" SemiHidden=\"true\" UnhideWhenUsed=\"true\"\\r\\n   Name=\"Table List 7\"/>\\r\\n  <w:LsdException Locked=\"false\" SemiHidden=\"true\" UnhideWhenUsed=\"true\"\\r\\n   Name=\"Table List 8\"/>\\r\\n  <w:LsdException Locked=\"false\" SemiHidden=\"true\" UnhideWhenUsed=\"true\"\\r\\n   Name=\"Table 3D effects 1\"/>\\r\\n  <w:LsdException Locked=\"false\" SemiHidden=\"true\" UnhideWhenUsed=\"true\"\\r\\n   Name=\"Table 3D effects 2\"/>\\r\\n  <w:LsdException Locked=\"false\" SemiHidden=\"true\" UnhideWhenUsed=\"true\"\\r\\n   Name=\"Table 3D effects 3\"/>\\r\\n  <w:LsdException Locked=\"false\" SemiHidden=\"true\" UnhideWhenUsed=\"true\"\\r\\n   Name=\"Table Contemporary\"/>\\r\\n  <w:LsdException Locked=\"false\" SemiHidden=\"true\" UnhideWhenUsed=\"true\"\\r\\n   Name=\"Table Elegant\"/>\\r\\n  <w:LsdException Locked=\"false\" SemiHidden=\"true\" UnhideWhenUsed=\"true\"\\r\\n   Name=\"Table Professional\"/>\\r\\n  <w:LsdException Locked=\"false\" SemiHidden=\"true\" UnhideWhenUsed=\"true\"\\r\\n   Name=\"Table Subtle 1\"/>\\r\\n  <w:LsdException Locked=\"false\" SemiHidden=\"true\" UnhideWhenUsed=\"true\"\\r\\n   Name=\"Table Subtle 2\"/>\\r\\n  <w:LsdException Locked=\"false\" SemiHidden=\"true\" UnhideWhenUsed=\"true\"\\r\\n   Name=\"Table Web 1\"/>\\r\\n  <w:LsdException Locked=\"false\" SemiHidden=\"true\" UnhideWhenUsed=\"true\"\\r\\n   Name=\"Table Web 2\"/>\\r\\n  <w:LsdException Locked=\"false\" SemiHidden=\"true\" UnhideWhenUsed=\"true\"\\r\\n   Name=\"Table Web 3\"/>\\r\\n  <w:LsdException Locked=\"false\" SemiHidden=\"true\" UnhideWhenUsed=\"true\"\\r\\n   Name=\"Balloon Text\"/>\\r\\n  <w:LsdException Locked=\"false\" Priority=\"39\" Name=\"Table Grid\"/>\\r\\n  <w:LsdException Locked=\"false\" SemiHidden=\"true\" UnhideWhenUsed=\"true\"\\r\\n   Name=\"Table Theme\"/>\\r\\n  <w:LsdException Locked=\"false\" SemiHidden=\"true\" Name=\"Placeholder Text\"/>\\r\\n  <w:LsdException Locked=\"false\" Priority=\"1\" QFormat=\"true\" Name=\"No Spacing\"/>\\r\\n  <w:LsdException Locked=\"false\" Priority=\"60\" Name=\"Light Shading\"/>\\r\\n  <w:LsdException Locked=\"false\" Priority=\"61\" Name=\"Light List\"/>\\r\\n  <w:LsdException Locked=\"false\" Priority=\"62\" Name=\"Light Grid\"/>\\r\\n  <w:LsdException Locked=\"false\" Priority=\"63\" Name=\"Medium Shading 1\"/>\\r\\n  <w:LsdException Locked=\"false\" Priority=\"64\" Name=\"Medium Shading 2\"/>\\r\\n  <w:LsdException Locked=\"false\" Priority=\"65\" Name=\"Medium List 1\"/>\\r\\n  <w:LsdException Locked=\"false\" Priority=\"66\" Name=\"Medium List 2\"/>\\r\\n  <w:LsdException Locked=\"false\" Priority=\"67\" Name=\"Medium Grid 1\"/>\\r\\n  <w:LsdException Locked=\"false\" Priority=\"68\" Name=\"Medium Grid 2\"/>\\r\\n  <w:LsdException Locked=\"false\" Priority=\"69\" Name=\"Medium Grid 3\"/>\\r\\n  <w:LsdException Locked=\"false\" Priority=\"70\" Name=\"Dark List\"/>\\r\\n  <w:LsdException Locked=\"false\" Priority=\"71\" Name=\"Colorful Shading\"/>\\r\\n  <w:LsdException Locked=\"false\" Priority=\"72\" Name=\"Colorful List\"/>\\r\\n  <w:LsdException Locked=\"false\" Priority=\"73\" Name=\"Colorful Grid\"/>\\r\\n  <w:LsdException Locked=\"false\" Priority=\"60\" Name=\"Light Shading Accent 1\"/>\\r\\n  <w:LsdException Locked=\"false\" Priority=\"61\" Name=\"Light List Accent 1\"/>\\r\\n  <w:LsdException Locked=\"false\" Priority=\"62\" Name=\"Light Grid Accent 1\"/>\\r\\n  <w:LsdException Locked=\"false\" Priority=\"63\" Name=\"Medium Shading 1 Accent 1\"/>\\r\\n  <w:LsdException Locked=\"false\" Priority=\"64\" Name=\"Medium Shading 2 Accent 1\"/>\\r\\n  <w:LsdException Locked=\"false\" Priority=\"65\" Name=\"Medium List 1 Accent 1\"/>\\r\\n  <w:LsdException Locked=\"false\" SemiHidden=\"true\" Name=\"Revision\"/>\\r\\n  <w:LsdException Locked=\"false\" Priority=\"34\" QFormat=\"true\"\\r\\n   Name=\"List Paragraph\"/>\\r\\n  <w:LsdException Locked=\"false\" Priority=\"29\" QFormat=\"true\" Name=\"Quote\"/>\\r\\n  <w:LsdException Locked=\"false\" Priority=\"30\" QFormat=\"true\"\\r\\n   Name=\"Intense Quote\"/>\\r\\n  <w:LsdException Locked=\"false\" Priority=\"66\" Name=\"Medium List 2 Accent 1\"/>\\r\\n  <w:LsdException Locked=\"false\" Priority=\"67\" Name=\"Medium Grid 1 Accent 1\"/>\\r\\n  <w:LsdException Locked=\"false\" Priority=\"68\" Name=\"Medium Grid 2 Accent 1\"/>\\r\\n  <w:LsdException Locked=\"false\" Priority=\"69\" Name=\"Medium Grid 3 Accent 1\"/>\\r\\n  <w:LsdException Locked=\"false\" Priority=\"70\" Name=\"Dark List Accent 1\"/>\\r\\n  <w:LsdException Locked=\"false\" Priority=\"71\" Name=\"Colorful Shading Accent 1\"/>\\r\\n  <w:LsdException Locked=\"false\" Priority=\"72\" Name=\"Colorful List Accent 1\"/>\\r\\n  <w:LsdException Locked=\"false\" Priority=\"73\" Name=\"Colorful Grid Accent 1\"/>\\r\\n  <w:LsdException Locked=\"false\" Priority=\"60\" Name=\"Light Shading Accent 2\"/>\\r\\n  <w:LsdException Locked=\"false\" Priority=\"61\" Name=\"Light List Accent 2\"/>\\r\\n  <w:LsdException Locked=\"false\" Priority=\"62\" Name=\"Light Grid Accent 2\"/>\\r\\n  <w:LsdException Locked=\"false\" Priority=\"63\" Name=\"Medium Shading 1 Accent 2\"/>\\r\\n  <w:LsdException Locked=\"false\" Priority=\"64\" Name=\"Medium Shading 2 Accent 2\"/>\\r\\n  <w:LsdException Locked=\"false\" Priority=\"65\" Name=\"Medium List 1 Accent 2\"/>\\r\\n  <w:LsdException Locked=\"false\" Priority=\"66\" Name=\"Medium List 2 Accent 2\"/>\\r\\n  <w:LsdException Locked=\"false\" Priority=\"67\" Name=\"Medium Grid 1 Accent 2\"/>\\r\\n  <w:LsdException Locked=\"false\" Priority=\"68\" Name=\"Medium Grid 2 Accent 2\"/>\\r\\n  <w:LsdException Locked=\"false\" Priority=\"69\" Name=\"Medium Grid 3 Accent 2\"/>\\r\\n  <w:LsdException Locked=\"false\" Priority=\"70\" Name=\"Dark List Accent 2\"/>\\r\\n  <w:LsdException Locked=\"false\" Priority=\"71\" Name=\"Colorful Shading Accent 2\"/>\\r\\n  <w:LsdException Locked=\"false\" Priority=\"72\" Name=\"Colorful List Accent 2\"/>\\r\\n  <w:LsdException Locked=\"false\" Priority=\"73\" Name=\"Colorful Grid Accent 2\"/>\\r\\n  <w:LsdException Locked=\"false\" Priority=\"60\" Name=\"Light Shading Accent 3\"/>\\r\\n  <w:LsdException Locked=\"false\" Priority=\"61\" Name=\"Light List Accent 3\"/>\\r\\n  <w:LsdException Locked=\"false\" Priority=\"62\" Name=\"Light Grid Accent 3\"/>\\r\\n  <w:LsdException Locked=\"false\" Priority=\"63\" Name=\"Medium Shading 1 Accent 3\"/>\\r\\n  <w:LsdException Locked=\"false\" Priority=\"64\" Name=\"Medium Shading 2 Accent 3\"/>\\r\\n  <w:LsdException Locked=\"false\" Priority=\"65\" Name=\"Medium List 1 Accent 3\"/>\\r\\n  <w:LsdException Locked=\"false\" Priority=\"66\" Name=\"Medium List 2 Accent 3\"/>\\r\\n  <w:LsdException Locked=\"false\" Priority=\"67\" Name=\"Medium Grid 1 Accent 3\"/>\\r\\n  <w:LsdException Locked=\"false\" Priority=\"68\" Name=\"Medium Grid 2 Accent 3\"/>\\r\\n  <w:LsdException Locked=\"false\" Priority=\"69\" Name=\"Medium Grid 3 Accent 3\"/>\\r\\n  <w:LsdException Locked=\"false\" Priority=\"70\" Name=\"Dark List Accent 3\"/>\\r\\n  <w:LsdException Locked=\"false\" Priority=\"71\" Name=\"Colorful Shading Accent 3\"/>\\r\\n  <w:LsdException Locked=\"false\" Priority=\"72\" Name=\"Colorful List Accent 3\"/>\\r\\n  <w:LsdException Locked=\"false\" Priority=\"73\" Name=\"Colorful Grid Accent 3\"/>\\r\\n  <w:LsdException Locked=\"false\" Priority=\"60\" Name=\"Light Shading Accent 4\"/>\\r\\n  <w:LsdException Locked=\"false\" Priority=\"61\" Name=\"Light List Accent 4\"/>\\r\\n  <w:LsdException Locked=\"false\" Priority=\"62\" Name=\"Light Grid Accent 4\"/>\\r\\n  <w:LsdException Locked=\"false\" Priority=\"63\" Name=\"Medium Shading 1 Accent 4\"/>\\r\\n  <w:LsdException Locked=\"false\" Priority=\"64\" Name=\"Medium Shading 2 Accent 4\"/>\\r\\n  <w:LsdException Locked=\"false\" Priority=\"65\" Name=\"Medium List 1 Accent 4\"/>\\r\\n  <w:LsdException Locked=\"false\" Priority=\"66\" Name=\"Medium List 2 Accent 4\"/>\\r\\n  <w:LsdException Locked=\"false\" Priority=\"67\" Name=\"Medium Grid 1 Accent 4\"/>\\r\\n  <w:LsdException Locked=\"false\" Priority=\"68\" Name=\"Medium Grid 2 Accent 4\"/>\\r\\n  <w:LsdException Locked=\"false\" Priority=\"69\" Name=\"Medium Grid 3 Accent 4\"/>\\r\\n  <w:LsdException Locked=\"false\" Priority=\"70\" Name=\"Dark List Accent 4\"/>\\r\\n  <w:LsdException Locked=\"false\" Priority=\"71\" Name=\"Colorful Shading Accent 4\"/>\\r\\n  <w:LsdException Locked=\"false\" Priority=\"72\" Name=\"Colorful List Accent 4\"/>\\r\\n  <w:LsdException Locked=\"false\" Priority=\"73\" Name=\"Colorful Grid Accent 4\"/>\\r\\n  <w:LsdException Locked=\"false\" Priority=\"60\" Name=\"Light Shading Accent 5\"/>\\r\\n  <w:LsdException Locked=\"false\" Priority=\"61\" Name=\"Light List Accent 5\"/>\\r\\n  <w:LsdException Locked=\"false\" Priority=\"62\" Name=\"Light Grid Accent 5\"/>\\r\\n  <w:LsdException Locked=\"false\" Priority=\"63\" Name=\"Medium Shading 1 Accent 5\"/>\\r\\n  <w:LsdException Locked=\"false\" Priority=\"64\" Name=\"Medium Shading 2 Accent 5\"/>\\r\\n  <w:LsdException Locked=\"false\" Priority=\"65\" Name=\"Medium List 1 Accent 5\"/>\\r\\n  <w:LsdException Locked=\"false\" Priority=\"66\" Name=\"Medium List 2 Accent 5\"/>\\r\\n  <w:LsdException Locked=\"false\" Priority=\"67\" Name=\"Medium Grid 1 Accent 5\"/>\\r\\n  <w:LsdException Locked=\"false\" Priority=\"68\" Name=\"Medium Grid 2 Accent 5\"/>\\r\\n  <w:LsdException Locked=\"false\" Priority=\"69\" Name=\"Medium Grid 3 Accent 5\"/>\\r\\n  <w:LsdException Locked=\"false\" Priority=\"70\" Name=\"Dark List Accent 5\"/>\\r\\n  <w:LsdException Locked=\"false\" Priority=\"71\" Name=\"Colorful Shading Accent 5\"/>\\r\\n  <w:LsdException Locked=\"false\" Priority=\"72\" Name=\"Colorful List Accent 5\"/>\\r\\n  <w:LsdException Locked=\"false\" Priority=\"73\" Name=\"Colorful Grid Accent 5\"/>\\r\\n  <w:LsdException Locked=\"false\" Priority=\"60\" Name=\"Light Shading Accent 6\"/>\\r\\n  <w:LsdException Locked=\"false\" Priority=\"61\" Name=\"Light List Accent 6\"/>\\r\\n  <w:LsdException Locked=\"false\" Priority=\"62\" Name=\"Light Grid Accent 6\"/>\\r\\n  <w:LsdException Locked=\"false\" Priority=\"63\" Name=\"Medium Shading 1 Accent 6\"/>\\r\\n  <w:LsdException Locked=\"false\" Priority=\"64\" Name=\"Medium Shading 2 Accent 6\"/>\\r\\n  <w:LsdException Locked=\"false\" Priority=\"65\" Name=\"Medium List 1 Accent 6\"/>\\r\\n  <w:LsdException Locked=\"false\" Priority=\"66\" Name=\"Medium List 2 Accent 6\"/>\\r\\n  <w:LsdException Locked=\"false\" Priority=\"67\" Name=\"Medium Grid 1 Accent 6\"/>\\r\\n  <w:LsdException Locked=\"false\" Priority=\"68\" Name=\"Medium Grid 2 Accent 6\"/>\\r\\n  <w:LsdException Locked=\"false\" Priority=\"69\" Name=\"Medium Grid 3 Accent 6\"/>\\r\\n  <w:LsdException Locked=\"false\" Priority=\"70\" Name=\"Dark List Accent 6\"/>\\r\\n  <w:LsdException Locked=\"false\" Priority=\"71\" Name=\"Colorful Shading Accent 6\"/>\\r\\n  <w:LsdException Locked=\"false\" Priority=\"72\" Name=\"Colorful List Accent 6\"/>\\r\\n  <w:LsdException Locked=\"false\" Priority=\"73\" Name=\"Colorful Grid Accent 6\"/>\\r\\n  <w:LsdException Locked=\"false\" Priority=\"19\" QFormat=\"true\"\\r\\n   Name=\"Subtle Emphasis\"/>\\r\\n  <w:LsdException Locked=\"false\" Priority=\"21\" QFormat=\"true\"\\r\\n   Name=\"Intense Emphasis\"/>\\r\\n  <w:LsdException Locked=\"false\" Priority=\"31\" QFormat=\"true\"\\r\\n   Name=\"Subtle Reference\"/>\\r\\n  <w:LsdException Locked=\"false\" Priority=\"32\" QFormat=\"true\"\\r\\n   Name=\"Intense Reference\"/>\\r\\n  <w:LsdException Locked=\"false\" Priority=\"33\" QFormat=\"true\" Name=\"Book Title\"/>\\r\\n  <w:LsdException Locked=\"false\" Priority=\"37\" SemiHidden=\"true\"\\r\\n   UnhideWhenUsed=\"true\" Name=\"Bibliography\"/>\\r\\n  <w:LsdException Locked=\"false\" Priority=\"39\" SemiHidden=\"true\"\\r\\n   UnhideWhenUsed=\"true\" QFormat=\"true\" Name=\"TOC Heading\"/>\\r\\n  <w:LsdException Locked=\"false\" Priority=\"41\" Name=\"Plain Table 1\"/>\\r\\n  <w:LsdException Locked=\"false\" Priority=\"42\" Name=\"Plain Table 2\"/>\\r\\n  <w:LsdException Locked=\"false\" Priority=\"43\" Name=\"Plain Table 3\"/>\\r\\n  <w:LsdException Locked=\"false\" Priority=\"44\" Name=\"Plain Table 4\"/>\\r\\n  <w:LsdException Locked=\"false\" Priority=\"45\" Name=\"Plain Table 5\"/>\\r\\n  <w:LsdException Locked=\"false\" Priority=\"40\" Name=\"Grid Table Light\"/>\\r\\n  <w:LsdException Locked=\"false\" Priority=\"46\" Name=\"Grid Table 1 Light\"/>\\r\\n  <w:LsdException Locked=\"false\" Priority=\"47\" Name=\"Grid Table 2\"/>\\r\\n  <w:LsdException Locked=\"false\" Priority=\"48\" Name=\"Grid Table 3\"/>\\r\\n  <w:LsdException Locked=\"false\" Priority=\"49\" Name=\"Grid Table 4\"/>\\r\\n  <w:LsdException Locked=\"false\" Priority=\"50\" Name=\"Grid Table 5 Dark\"/>\\r\\n  <w:LsdException Locked=\"false\" Priority=\"51\" Name=\"Grid Table 6 Colorful\"/>\\r\\n  <w:LsdException Locked=\"false\" Priority=\"52\" Name=\"Grid Table 7 Colorful\"/>\\r\\n  <w:LsdException Locked=\"false\" Priority=\"46\"\\r\\n   Name=\"Grid Table 1 Light Accent 1\"/>\\r\\n  <w:LsdException Locked=\"false\" Priority=\"47\" Name=\"Grid Table 2 Accent 1\"/>\\r\\n  <w:LsdException Locked=\"false\" Priority=\"48\" Name=\"Grid Table 3 Accent 1\"/>\\r\\n  <w:LsdException Locked=\"false\" Priority=\"49\" Name=\"Grid Table 4 Accent 1\"/>\\r\\n  <w:LsdException Locked=\"false\" Priority=\"50\" Name=\"Grid Table 5 Dark Accent 1\"/>\\r\\n  <w:LsdException Locked=\"false\" Priority=\"51\"\\r\\n   Name=\"Grid Table 6 Colorful Accent 1\"/>\\r\\n  <w:LsdException Locked=\"false\" Priority=\"52\"\\r\\n   Name=\"Grid Table 7 Colorful Accent 1\"/>\\r\\n  <w:LsdException Locked=\"false\" Priority=\"46\"\\r\\n   Name=\"Grid Table 1 Light Accent 2\"/>\\r\\n  <w:LsdException Locked=\"false\" Priority=\"47\" Name=\"Grid Table 2 Accent 2\"/>\\r\\n  <w:LsdException Locked=\"false\" Priority=\"48\" Name=\"Grid Table 3 Accent 2\"/>\\r\\n  <w:LsdException Locked=\"false\" Priority=\"49\" Name=\"Grid Table 4 Accent 2\"/>\\r\\n  <w:LsdException Locked=\"false\" Priority=\"50\" Name=\"Grid Table 5 Dark Accent 2\"/>\\r\\n  <w:LsdException Locked=\"false\" Priority=\"51\"\\r\\n   Name=\"Grid Table 6 Colorful Accent 2\"/>\\r\\n  <w:LsdException Locked=\"false\" Priority=\"52\"\\r\\n   Name=\"Grid Table 7 Colorful Accent 2\"/>\\r\\n  <w:LsdException Locked=\"false\" Priority=\"46\"\\r\\n   Name=\"Grid Table 1 Light Accent 3\"/>\\r\\n  <w:LsdException Locked=\"false\" Priority=\"47\" Name=\"Grid Table 2 Accent 3\"/>\\r\\n  <w:LsdException Locked=\"false\" Priority=\"48\" Name=\"Grid Table 3 Accent 3\"/>\\r\\n  <w:LsdException Locked=\"false\" Priority=\"49\" Name=\"Grid Table 4 Accent 3\"/>\\r\\n  <w:LsdException Locked=\"false\" Priority=\"50\" Name=\"Grid Table 5 Dark Accent 3\"/>\\r\\n  <w:LsdException Locked=\"false\" Priority=\"51\"\\r\\n   Name=\"Grid Table 6 Colorful Accent 3\"/>\\r\\n  <w:LsdException Locked=\"false\" Priority=\"52\"\\r\\n   Name=\"Grid Table 7 Colorful Accent 3\"/>\\r\\n  <w:LsdException Locked=\"false\" Priority=\"46\"\\r\\n   Name=\"Grid Table 1 Light Accent 4\"/>\\r\\n  <w:LsdException Locked=\"false\" Priority=\"47\" Name=\"Grid Table 2 Accent 4\"/>\\r\\n  <w:LsdException Locked=\"false\" Priority=\"48\" Name=\"Grid Table 3 Accent 4\"/>\\r\\n  <w:LsdException Locked=\"false\" Priority=\"49\" Name=\"Grid Table 4 Accent 4\"/>\\r\\n  <w:LsdException Locked=\"false\" Priority=\"50\" Name=\"Grid Table 5 Dark Accent 4\"/>\\r\\n  <w:LsdException Locked=\"false\" Priority=\"51\"\\r\\n   Name=\"Grid Table 6 Colorful Accent 4\"/>\\r\\n  <w:LsdException Locked=\"false\" Priority=\"52\"\\r\\n   Name=\"Grid Table 7 Colorful Accent 4\"/>\\r\\n  <w:LsdException Locked=\"false\" Priority=\"46\"\\r\\n   Name=\"Grid Table 1 Light Accent 5\"/>\\r\\n  <w:LsdException Locked=\"false\" Priority=\"47\" Name=\"Grid Table 2 Accent 5\"/>\\r\\n  <w:LsdException Locked=\"false\" Priority=\"48\" Name=\"Grid Table 3 Accent 5\"/>\\r\\n  <w:LsdException Locked=\"false\" Priority=\"49\" Name=\"Grid Table 4 Accent 5\"/>\\r\\n  <w:LsdException Locked=\"false\" Priority=\"50\" Name=\"Grid Table 5 Dark Accent 5\"/>\\r\\n  <w:LsdException Locked=\"false\" Priority=\"51\"\\r\\n   Name=\"Grid Table 6 Colorful Accent 5\"/>\\r\\n  <w:LsdException Locked=\"false\" Priority=\"52\"\\r\\n   Name=\"Grid Table 7 Colorful Accent 5\"/>\\r\\n  <w:LsdException Locked=\"false\" Priority=\"46\"\\r\\n   Name=\"Grid Table 1 Light Accent 6\"/>\\r\\n  <w:LsdException Locked=\"false\" Priority=\"47\" Name=\"Grid Table 2 Accent 6\"/>\\r\\n  <w:LsdException Locked=\"false\" Priority=\"48\" Name=\"Grid Table 3 Accent 6\"/>\\r\\n  <w:LsdException Locked=\"false\" Priority=\"49\" Name=\"Grid Table 4 Accent 6\"/>\\r\\n  <w:LsdException Locked=\"false\" Priority=\"50\" Name=\"Grid Table 5 Dark Accent 6\"/>\\r\\n  <w:LsdException Locked=\"false\" Priority=\"51\"\\r\\n   Name=\"Grid Table 6 Colorful Accent 6\"/>\\r\\n  <w:LsdException Locked=\"false\" Priority=\"52\"\\r\\n   Name=\"Grid Table 7 Colorful Accent 6\"/>\\r\\n  <w:LsdException Locked=\"false\" Priority=\"46\" Name=\"List Table 1 Light\"/>\\r\\n  <w:LsdException Locked=\"false\" Priority=\"47\" Name=\"List Table 2\"/>\\r\\n  <w:LsdException Locked=\"false\" Priority=\"48\" Name=\"List Table 3\"/>\\r\\n  <w:LsdException Locked=\"false\" Priority=\"49\" Name=\"List Table 4\"/>\\r\\n  <w:LsdException Locked=\"false\" Priority=\"50\" Name=\"List Table 5 Dark\"/>\\r\\n  <w:LsdException Locked=\"false\" Priority=\"51\" Name=\"List Table 6 Colorful\"/>\\r\\n  <w:LsdException Locked=\"false\" Priority=\"52\" Name=\"List Table 7 Colorful\"/>\\r\\n  <w:LsdException Locked=\"false\" Priority=\"46\"\\r\\n   Name=\"List Table 1 Light Accent 1\"/>\\r\\n  <w:LsdException Locked=\"false\" Priority=\"47\" Name=\"List Table 2 Accent 1\"/>\\r\\n  <w:LsdException Locked=\"false\" Priority=\"48\" Name=\"List Table 3 Accent 1\"/>\\r\\n  <w:LsdException Locked=\"false\" Priority=\"49\" Name=\"List Table 4 Accent 1\"/>\\r\\n  <w:LsdException Locked=\"false\" Priority=\"50\" Name=\"List Table 5 Dark Accent 1\"/>\\r\\n  <w:LsdException Locked=\"false\" Priority=\"51\"\\r\\n   Name=\"List Table 6 Colorful Accent 1\"/>\\r\\n  <w:LsdException Locked=\"false\" Priority=\"52\"\\r\\n   Name=\"List Table 7 Colorful Accent 1\"/>\\r\\n  <w:LsdException Locked=\"false\" Priority=\"46\"\\r\\n   Name=\"List Table 1 Light Accent 2\"/>\\r\\n  <w:LsdException Locked=\"false\" Priority=\"47\" Name=\"List Table 2 Accent 2\"/>\\r\\n  <w:LsdException Locked=\"false\" Priority=\"48\" Name=\"List Table 3 Accent 2\"/>\\r\\n  <w:LsdException Locked=\"false\" Priority=\"49\" Name=\"List Table 4 Accent 2\"/>\\r\\n  <w:LsdException Locked=\"false\" Priority=\"50\" Name=\"List Table 5 Dark Accent 2\"/>\\r\\n  <w:LsdException Locked=\"false\" Priority=\"51\"\\r\\n   Name=\"List Table 6 Colorful Accent 2\"/>\\r\\n  <w:LsdException Locked=\"false\" Priority=\"52\"\\r\\n   Name=\"List Table 7 Colorful Accent 2\"/>\\r\\n  <w:LsdException Locked=\"false\" Priority=\"46\"\\r\\n   Name=\"List Table 1 Light Accent 3\"/>\\r\\n  <w:LsdException Locked=\"false\" Priority=\"47\" Name=\"List Table 2 Accent 3\"/>\\r\\n  <w:LsdException Locked=\"false\" Priority=\"48\" Name=\"List Table 3 Accent 3\"/>\\r\\n  <w:LsdException Locked=\"false\" Priority=\"49\" Name=\"List Table 4 Accent 3\"/>\\r\\n  <w:LsdException Locked=\"false\" Priority=\"50\" Name=\"List Table 5 Dark Accent 3\"/>\\r\\n  <w:LsdException Locked=\"false\" Priority=\"51\"\\r\\n   Name=\"List Table 6 Colorful Accent 3\"/>\\r\\n  <w:LsdException Locked=\"false\" Priority=\"52\"\\r\\n   Name=\"List Table 7 Colorful Accent 3\"/>\\r\\n  <w:LsdException Locked=\"false\" Priority=\"46\"\\r\\n   Name=\"List Table 1 Light Accent 4\"/>\\r\\n  <w:LsdException Locked=\"false\" Priority=\"47\" Name=\"List Table 2 Accent 4\"/>\\r\\n  <w:LsdException Locked=\"false\" Priority=\"48\" Name=\"List Table 3 Accent 4\"/>\\r\\n  <w:LsdException Locked=\"false\" Priority=\"49\" Name=\"List Table 4 Accent 4\"/>\\r\\n  <w:LsdException Locked=\"false\" Priority=\"50\" Name=\"List Table 5 Dark Accent 4\"/>\\r\\n  <w:LsdException Locked=\"false\" Priority=\"51\"\\r\\n   Name=\"List Table 6 Colorful Accent 4\"/>\\r\\n  <w:LsdException Locked=\"false\" Priority=\"52\"\\r\\n   Name=\"List Table 7 Colorful Accent 4\"/>\\r\\n  <w:LsdException Locked=\"false\" Priority=\"46\"\\r\\n   Name=\"List Table 1 Light Accent 5\"/>\\r\\n  <w:LsdException Locked=\"false\" Priority=\"47\" Name=\"List Table 2 Accent 5\"/>\\r\\n  <w:LsdException Locked=\"false\" Priority=\"48\" Name=\"List Table 3 Accent 5\"/>\\r\\n  <w:LsdException Locked=\"false\" Priority=\"49\" Name=\"List Table 4 Accent 5\"/>\\r\\n  <w:LsdException Locked=\"false\" Priority=\"50\" Name=\"List Table 5 Dark Accent 5\"/>\\r\\n  <w:LsdException Locked=\"false\" Priority=\"51\"\\r\\n   Name=\"List Table 6 Colorful Accent 5\"/>\\r\\n  <w:LsdException Locked=\"false\" Priority=\"52\"\\r\\n   Name=\"List Table 7 Colorful Accent 5\"/>\\r\\n  <w:LsdException Locked=\"false\" Priority=\"46\"\\r\\n   Name=\"List Table 1 Light Accent 6\"/>\\r\\n  <w:LsdException Locked=\"false\" Priority=\"47\" Name=\"List Table 2 Accent 6\"/>\\r\\n  <w:LsdException Locked=\"false\" Priority=\"48\" Name=\"List Table 3 Accent 6\"/>\\r\\n  <w:LsdException Locked=\"false\" Priority=\"49\" Name=\"List Table 4 Accent 6\"/>\\r\\n  <w:LsdException Locked=\"false\" Priority=\"50\" Name=\"List Table 5 Dark Accent 6\"/>\\r\\n  <w:LsdException Locked=\"false\" Priority=\"51\"\\r\\n   Name=\"List Table 6 Colorful Accent 6\"/>\\r\\n  <w:LsdException Locked=\"false\" Priority=\"52\"\\r\\n   Name=\"List Table 7 Colorful Accent 6\"/>\\r\\n </w:LatentStyles>\\r\\n</xml><![endif]-->\\r\\n<style>\\r\\n<!--\\r\\n /* Font Definitions */\\r\\n @font-face\\r\\n\\t{font-family:\"Cambria Math\";\\r\\n\\tpanose-1:2 4 5 3 5 4 6 3 2 4;\\r\\n\\tmso-font-charset:1;\\r\\n\\tmso-generic-font-family:roman;\\r\\n\\tmso-font-format:other;\\r\\n\\tmso-font-pitch:variable;\\r\\n\\tmso-font-signature:0 0 0 0 0 0;}\\r\\n /* Style Definitions */\\r\\n p.MsoNormal, li.MsoNormal, div.MsoNormal\\r\\n\\t{mso-style-unhide:no;\\r\\n\\tmso-style-qformat:yes;\\r\\n\\tmso-style-parent:\"\";\\r\\n\\tmargin:0in;\\r\\n\\tmargin-bottom:.0001pt;\\r\\n\\tmso-pagination:widow-orphan;\\r\\n\\tfont-size:12.0pt;\\r\\n\\tfont-family:\"Times New Roman\",\"serif\";\\r\\n\\tmso-fareast-font-family:\"Times New Roman\";\\r\\n\\tmso-fareast-theme-font:minor-fareast;}\\r\\na:link, span.MsoHyperlink\\r\\n\\t{mso-style-noshow:yes;\\r\\n\\tmso-style-priority:99;\\r\\n\\tcolor:blue;\\r\\n\\ttext-decoration:underline;\\r\\n\\ttext-underline:single;}\\r\\na:visited, span.MsoHyperlinkFollowed\\r\\n\\t{mso-style-noshow:yes;\\r\\n\\tmso-style-priority:99;\\r\\n\\tcolor:purple;\\r\\n\\ttext-decoration:underline;\\r\\n\\ttext-underline:single;}\\r\\np\\r\\n\\t{mso-style-noshow:yes;\\r\\n\\tmso-style-priority:99;\\r\\n\\tmso-margin-top-alt:auto;\\r\\n\\tmargin-right:0in;\\r\\n\\tmso-margin-bottom-alt:auto;\\r\\n\\tmargin-left:0in;\\r\\n\\tmso-pagination:widow-orphan;\\r\\n\\tfont-size:12.0pt;\\r\\n\\tfont-family:\"Times New Roman\",\"serif\";\\r\\n\\tmso-fareast-font-family:\"Times New Roman\";\\r\\n\\tmso-fareast-theme-font:minor-fareast;}\\r\\n.MsoChpDefault\\r\\n\\t{mso-style-type:export-only;\\r\\n\\tmso-default-props:yes;\\r\\n\\tfont-size:10.0pt;\\r\\n\\tmso-ansi-font-size:10.0pt;\\r\\n\\tmso-bidi-font-size:10.0pt;}\\r\\n@page WordSection1\\r\\n\\t{size:8.5in 11.0in;\\r\\n\\tmargin:1.0in 1.0in 1.0in 1.0in;\\r\\n\\tmso-header-margin:.5in;\\r\\n\\tmso-footer-margin:.5in;\\r\\n\\tmso-paper-source:0;}\\r\\ndiv.WordSection1\\r\\n\\t{page:WordSection1;}\\r\\n-->\\r\\n</style>\\r\\n<!--[if gte mso 10]>\\r\\n<style>\\r\\n /* Style Definitions */\\r\\n table.MsoNormalTable\\r\\n\\t{mso-style-name:\"Table Normal\";\\r\\n\\tmso-tstyle-rowband-size:0;\\r\\n\\tmso-tstyle-colband-size:0;\\r\\n\\tmso-style-noshow:yes;\\r\\n\\tmso-style-priority:99;\\r\\n\\tmso-style-parent:\"\";\\r\\n\\tmso-padding-alt:0in 5.4pt 0in 5.4pt;\\r\\n\\tmso-para-margin:0in;\\r\\n\\tmso-para-margin-bottom:.0001pt;\\r\\n\\tmso-pagination:widow-orphan;\\r\\n\\tfont-size:10.0pt;\\r\\n\\tfont-family:\"Times New Roman\",\"serif\";}\\r\\n</style>\\r\\n<![endif]--><!--[if gte mso 9]><xml>\\r\\n <o:shapedefaults v:ext=\"edit\" spidmax=\"1026\"/>\\r\\n</xml><![endif]--><!--[if gte mso 9]><xml>\\r\\n <o:shapelayout v:ext=\"edit\">\\r\\n  <o:idmap v:ext=\"edit\" data=\"1\"/>\\r\\n </o:shapelayout></xml><![endif]-->\\r\\n</head>\\r\\n\\r\\n<body lang=EN-US link=blue vlink=purple style=\\'tab-interval:.5in\\'>\\r\\n\\r\\n<div class=WordSection1>\\r\\n\\r\\n<p class=MsoNormal align=center style=\\'text-align:center\\'><span\\r\\nstyle=\\'font-family:\"Arial\",\"sans-serif\";mso-fareast-font-family:\"Times New Roman\"\\'>&nbsp;<a\\r\\nhref=\"http://www.nwlink.com/~ufocntr\">NUFORC Home Page</a></span><span\\r\\nstyle=\\'mso-fareast-font-family:\"Times New Roman\"\\'> <br>\\r\\n</span><span style=\\'font-family:\"Arial\",\"sans-serif\";mso-fareast-font-family:\\r\\n\"Times New Roman\"\\'>Web Report Indexes : <a\\r\\nhref=\"http://www.nuforc.org/webreports/ndxevent.html\">by Event Date</a> | <a\\r\\nhref=\"http://www.nuforc.org/webreports/ndxloc.html\">by Location</a> | <a\\r\\nhref=\"http://www.nuforc.org/webreports/ndxshape.html\">by Shape</a> | <a\\r\\nhref=\"http://www.nuforc.org/webreports/ndxpost.html\">by Posting Date</a></span><span\\r\\nstyle=\\'mso-fareast-font-family:\"Times New Roman\"\\'><o:p></o:p></span></p>\\r\\n\\r\\n</div>\\r\\n\\r\\n<!--The following token places all object output inside the <BODY> tag.--><TABLE BORDER=1 BGCOLOR=#ffffff CELLSPACING=0><FONT FACE=\"Calibri\" COLOR=#000000><CAPTION><B>National UFO Reporting Center</B></CAPTION></FONT>\\r\\n\\r\\n<THEAD>\\r\\n<TR>\\r\\n<TH BGCOLOR=#c0c0c0 BORDERCOLOR=#000000 ><FONT style=FONT-SIZE:11pt FACE=\"Calibri\" COLOR=#000000>Sighting Report</FONT></TH>\\r\\n\\r\\n</TR>\\r\\n</THEAD>\\r\\n<TBODY>\\r\\n<TR VALIGN=TOP>\\r\\n<TD BORDERCOLOR=#d0d7e5 ><FONT style=FONT-SIZE:11pt FACE=\"Calibri\" COLOR=#000000>Occurred : 5/6/2017 05:00  (Entered as : 05/06/2017 05:00)<BR>Reported: 5/6/2017 4:10:01 AM 04:10<BR>Posted: 5/6/2017<BR>Location: Camp McGregor, NM<BR>Shape: Light<BR>Duration:10 minutes</FONT></TD>\\r\\n\\r\\n</TR>\\r\\n\\r\\n<TR VALIGN=TOP>\\r\\n<TD BORDERCOLOR=#d0d7e5 ><FONT style=FONT-SIZE:11pt FACE=\"Calibri\" COLOR=#000000>Light seen over mountain\\'s east of Camp McGregor.  It hovered in one spot.  It looked like a helicopter light at first.  But it was way to bright.  Then it went to a higher height.  Stayed there for a while.  Then disappeared.<BR><BR><BR>((NUFORC Note:  Report appears to us to be consistent with the sighting of Venus.  PD))</FONT></TD>\\r\\n\\r\\n</TR>\\r\\n</TBODY>\\r\\n<TFOOT></TFOOT>\\r\\n</TABLE>\\r\\n</body>\\r\\n\\r\\n</html>\\r\\n\\x00'"
      ]
     },
     "execution_count": 13,
     "metadata": {},
     "output_type": "execute_result"
    }
   ],
   "source": [
    "ufo_html = ufo.html\n",
    "ufo_html[0]"
   ]
  },
  {
   "cell_type": "code",
   "execution_count": 15,
   "metadata": {},
   "outputs": [],
   "source": [
    "from bs4 import BeautifulSoup\n",
    "soup = BeautifulSoup(ufo_html[0], 'html.parser')"
   ]
  },
  {
   "cell_type": "code",
   "execution_count": 16,
   "metadata": {},
   "outputs": [],
   "source": [
    "table=soup.find('tbody')"
   ]
  },
  {
   "cell_type": "code",
   "execution_count": 35,
   "metadata": {},
   "outputs": [],
   "source": [
    "import re\n",
    "def data_pipeline(data):\n",
    "    '''\n",
    "    input: raw dataframe with html column\n",
    "\n",
    "    '''\n",
    "\n",
    "    contents = []\n",
    "    for row in data.html:\n",
    "        soup = BeautifulSoup(row, \"html.parser\")\n",
    "        table = soup.find(\"tbody\")\n",
    "        text = table.text.strip()\n",
    "        a = re.findall(r'(Duration.+?\\n\\n\\n)(.+)(\\(\\(NUFORC Note:)?', text)\n",
    "        try:\n",
    "            contents.append(a[0][1])\n",
    "        except:\n",
    "            pass\n",
    "\n",
    "    return contents\n",
    "\n",
    "contents = data_pipeline(ufo)"
   ]
  },
  {
   "cell_type": "code",
   "execution_count": 37,
   "metadata": {},
   "outputs": [],
   "source": [
    "data = pd.DataFrame(contents)"
   ]
  },
  {
   "cell_type": "code",
   "execution_count": 85,
   "metadata": {},
   "outputs": [
    {
     "data": {
      "text/plain": [
       "0     Light seen over mountain's east of Camp McGreg...\n",
       "1     Light in sky stationary.  Not a airplane or an...\n",
       "2     Flying saucer descends, possibly lands in Nort...\n",
       "3     While letting my dog out, a very bright white ...\n",
       "4     A fire ball was moving in the atmosphere while...\n",
       "                            ...                        \n",
       "94    We got home from working the 2-10 shift at sec...\n",
       "95    Brown saucer with red and green lights seen in...\n",
       "96    There was a reflection on the window of a circ...\n",
       "97    i was observing what I thought to be a large e...\n",
       "98    TR3B Absolutely Certain!I saw the TR3B in the ...\n",
       "Name: 0, Length: 99, dtype: object"
      ]
     },
     "execution_count": 85,
     "metadata": {},
     "output_type": "execute_result"
    }
   ],
   "source": [
    "X = data[0]\n",
    "X"
   ]
  },
  {
   "cell_type": "code",
   "execution_count": 114,
   "metadata": {},
   "outputs": [
    {
     "data": {
      "text/plain": [
       "matrix([[0.        , 0.        , 0.        , ..., 0.        , 0.        ,\n",
       "         0.        ],\n",
       "        [0.        , 0.        , 0.29266506, ..., 0.        , 0.        ,\n",
       "         0.        ],\n",
       "        [0.1357466 , 0.13897931, 0.11571841, ..., 0.        , 0.        ,\n",
       "         0.25976398],\n",
       "        ...,\n",
       "        [0.        , 0.        , 0.        , ..., 0.        , 0.3457907 ,\n",
       "         0.        ],\n",
       "        [0.        , 0.        , 0.        , ..., 0.        , 0.        ,\n",
       "         0.23724485],\n",
       "        [0.        , 0.        , 0.        , ..., 0.        , 0.        ,\n",
       "         0.        ]])"
      ]
     },
     "execution_count": 114,
     "metadata": {},
     "output_type": "execute_result"
    }
   ],
   "source": [
    "from sklearn.feature_extraction.text import TfidfVectorizer, CountVectorizer\n",
    "from sklearn.cluster import KMeans\n",
    "from sklearn.decomposition import NMF\n",
    "from sklearn import metrics\n",
    "\n",
    "# removes punctuation and stopwords. replaces strings with lowercase and outputs top 1000 features. \n",
    "tfidf = TfidfVectorizer(lowercase=True, stop_words='english', max_features = 100)\n",
    "\n",
    "tfidf_ngrams = TfidfVectorizer(lowercase=True, stop_words='english', max_features = 1000, ngram_range=(1,2))\n",
    "\n",
    "count_vec = TfidfVectorizer(lowercase=True, stop_words='english', max_features = 1000)\n",
    "\n",
    "count_vec_ngrams = TfidfVectorizer(lowercase=True, stop_words='english', max_features = 1000, ngram_range=(1,2))\n",
    "\n",
    "for transformers in [tfidf,tfidf_ngrams,count_vec,count_vec_ngrams]:\n",
    "    transformers.fit(X)\n",
    "\n",
    "X_tfidf = tfidf.transform(X).todense()\n",
    "# .astype('U').todense()\n",
    "# X_tfidf.todense()\n",
    "X_tfidf"
   ]
  },
  {
   "cell_type": "code",
   "execution_count": 101,
   "metadata": {},
   "outputs": [],
   "source": [
    "def tfidf_KMeans(X):\n",
    "    tfidf = TfidfVectorizer(lowercase=True, stop_words='english', max_features = 1000)\n",
    "    X = tfidf.fit_transform(X)\n",
    "    km = KMeans()\n",
    "    km.fit(X)\n",
    "    top_centroids = km.cluster_centers_.argsort()[:,-1:-11:-1]\n",
    "    features = tfidf.get_feature_names()\n",
    "    for num, centroid in enumerate(top_centroids):\n",
    "        print(f\"{num}, {', '.join(features[i] for i in centroid)}\")\n",
    "    "
   ]
  },
  {
   "cell_type": "code",
   "execution_count": 102,
   "metadata": {},
   "outputs": [
    {
     "name": "stdout",
     "output_type": "stream",
     "text": [
      "0, formation, triangular, circle, lights, looks, facing, big, craft, horizon, neurotically\n",
      "1, moon, moved, bright, time, looked, stars, round, light, yellowish, started\n",
      "2, contact, anonymous, remain, source, provides, elects, information, report, nuforc, pd\n",
      "3, object, light, bright, shaped, huge, craft, kept, noticed, saw, got\n",
      "4, taft, date, witness, indicates, porch, brown, house, sighting, truck, california\n",
      "5, ring, lights, advertising, eden, prairie, circle, casino, local, road, stationary\n",
      "6, light, sky, lights, bright, like, moving, saw, just, looked, object\n",
      "7, red, ufo, objects, saw, sky, left, straight, cloud, told, light\n"
     ]
    }
   ],
   "source": [
    "tfidf_KMeans(X)"
   ]
  },
  {
   "cell_type": "code",
   "execution_count": 115,
   "metadata": {
    "scrolled": true
   },
   "outputs": [
    {
     "data": {
      "text/plain": [
       "[<matplotlib.lines.Line2D at 0x7fd728bfe390>]"
      ]
     },
     "execution_count": 115,
     "metadata": {},
     "output_type": "execute_result"
    },
    {
     "data": {
      "image/png": "[encoded data removed]",
      "text/plain": [
       "<Figure size 432x288 with 1 Axes>"
      ]
     },
     "metadata": {
      "needs_background": "light"
     },
     "output_type": "display_data"
    }
   ],
   "source": [
    "K = range(1,30)\n",
    "fig,ax = plt.subplots()\n",
    "inertia = []\n",
    "\n",
    "for k in K:\n",
    "    km = KMeans(k)\n",
    "    km.fit(X_tfidf)\n",
    "    inertia.append(km.inertia_)\n",
    "    \n",
    "    \n",
    "ax.plot(K, inertia)"
   ]
  },
  {
   "cell_type": "code",
   "execution_count": null,
   "metadata": {},
   "outputs": [],
   "source": []
  }
 ],
 "metadata": {
  "kernelspec": {
   "display_name": "Python 3",
   "language": "python",
   "name": "python3"
  },
  "language_info": {
   "codemirror_mode": {
    "name": "ipython",
    "version": 3
   },
   "file_extension": ".py",
   "mimetype": "text/x-python",
   "name": "python",
   "nbconvert_exporter": "python",
   "pygments_lexer": "ipython3",
   "version": "3.7.7"
  }
 },
 "nbformat": 4,
 "nbformat_minor": 4
}

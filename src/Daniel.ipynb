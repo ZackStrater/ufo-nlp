{
 "cells": [
  {
   "cell_type": "code",
   "execution_count": 1,
   "metadata": {},
   "outputs": [],
   "source": [
    "import pandas as pd\n",
    "import numpy as np\n",
    "import matplotlib.pyplot as plt"
   ]
  },
  {
   "cell_type": "code",
   "execution_count": 3,
   "metadata": {},
   "outputs": [],
   "source": [
    "ufo = pd.read_json('../data/ufo_first100records.json', lines=True)"
   ]
  },
  {
   "cell_type": "code",
   "execution_count": 12,
   "metadata": {},
   "outputs": [
    {
     "data": {
      "text/html": [
       "<div>\n",
       "<style scoped>\n",
       "    .dataframe tbody tr th:only-of-type {\n",
       "        vertical-align: middle;\n",
       "    }\n",
       "\n",
       "    .dataframe tbody tr th {\n",
       "        vertical-align: top;\n",
       "    }\n",
       "\n",
       "    .dataframe thead th {\n",
       "        text-align: right;\n",
       "    }\n",
       "</style>\n",
       "<table border=\"1\" class=\"dataframe\">\n",
       "  <thead>\n",
       "    <tr style=\"text-align: right;\">\n",
       "      <th></th>\n",
       "      <th>_id</th>\n",
       "      <th>url</th>\n",
       "      <th>html</th>\n",
       "      <th>time</th>\n",
       "    </tr>\n",
       "  </thead>\n",
       "  <tbody>\n",
       "    <tr>\n",
       "      <th>0</th>\n",
       "      <td>{'$oid': '591382287c40e83fd74240bd'}</td>\n",
       "      <td>http://www.nuforc.org/webreports/133/S133978.html</td>\n",
       "      <td>&lt;html xmlns:v=\"urn:schemas-microsoft-com:vml\"\\...</td>\n",
       "      <td>Wed May 10 21:12:07 2017</td>\n",
       "    </tr>\n",
       "    <tr>\n",
       "      <th>1</th>\n",
       "      <td>{'$oid': '591389377c40e840c123dfef'}</td>\n",
       "      <td>http://www.nuforc.org/webreports/133/S133977.h...</td>\n",
       "      <td>&lt;html xmlns:v=\"urn:schemas-microsoft-com:vml\"\\...</td>\n",
       "      <td>Wed May 10 21:42:15 2017</td>\n",
       "    </tr>\n",
       "    <tr>\n",
       "      <th>2</th>\n",
       "      <td>{'$oid': '591389397c40e840c123dff0'}</td>\n",
       "      <td>http://www.nuforc.org/webreports/133/S133974.h...</td>\n",
       "      <td>&lt;html xmlns:v=\"urn:schemas-microsoft-com:vml\"\\...</td>\n",
       "      <td>Wed May 10 21:42:17 2017</td>\n",
       "    </tr>\n",
       "    <tr>\n",
       "      <th>3</th>\n",
       "      <td>{'$oid': '5913893c7c40e840c123dff1'}</td>\n",
       "      <td>http://www.nuforc.org/webreports/133/S133964.h...</td>\n",
       "      <td>&lt;html xmlns:v=\"urn:schemas-microsoft-com:vml\"\\...</td>\n",
       "      <td>Wed May 10 21:42:20 2017</td>\n",
       "    </tr>\n",
       "    <tr>\n",
       "      <th>4</th>\n",
       "      <td>{'$oid': '5913893f7c40e840c123dff2'}</td>\n",
       "      <td>http://www.nuforc.org/webreports/133/S133962.h...</td>\n",
       "      <td>&lt;html xmlns:v=\"urn:schemas-microsoft-com:vml\"\\...</td>\n",
       "      <td>Wed May 10 21:42:23 2017</td>\n",
       "    </tr>\n",
       "    <tr>\n",
       "      <th>...</th>\n",
       "      <td>...</td>\n",
       "      <td>...</td>\n",
       "      <td>...</td>\n",
       "      <td>...</td>\n",
       "    </tr>\n",
       "    <tr>\n",
       "      <th>94</th>\n",
       "      <td>{'$oid': '59138a2f7c40e840c123e04c'}</td>\n",
       "      <td>http://www.nuforc.org/webreports/133/S133980.h...</td>\n",
       "      <td>&lt;html xmlns:v=\"urn:schemas-microsoft-com:vml\"\\...</td>\n",
       "      <td>Wed May 10 21:46:23 2017</td>\n",
       "    </tr>\n",
       "    <tr>\n",
       "      <th>95</th>\n",
       "      <td>{'$oid': '59138a317c40e840c123e04d'}</td>\n",
       "      <td>http://www.nuforc.org/webreports/133/S133923.h...</td>\n",
       "      <td>&lt;html xmlns:v=\"urn:schemas-microsoft-com:vml\"\\...</td>\n",
       "      <td>Wed May 10 21:46:25 2017</td>\n",
       "    </tr>\n",
       "    <tr>\n",
       "      <th>96</th>\n",
       "      <td>{'$oid': '59138a347c40e840c123e04e'}</td>\n",
       "      <td>http://www.nuforc.org/webreports/133/S133928.h...</td>\n",
       "      <td>&lt;html xmlns:v=\"urn:schemas-microsoft-com:vml\"\\...</td>\n",
       "      <td>Wed May 10 21:46:28 2017</td>\n",
       "    </tr>\n",
       "    <tr>\n",
       "      <th>97</th>\n",
       "      <td>{'$oid': '59138a377c40e840c123e04f'}</td>\n",
       "      <td>http://www.nuforc.org/webreports/133/S133891.h...</td>\n",
       "      <td>&lt;html xmlns:v=\"urn:schemas-microsoft-com:vml\"\\...</td>\n",
       "      <td>Wed May 10 21:46:31 2017</td>\n",
       "    </tr>\n",
       "    <tr>\n",
       "      <th>98</th>\n",
       "      <td>{'$oid': '59138a397c40e840c123e050'}</td>\n",
       "      <td>http://www.nuforc.org/webreports/133/S133907.h...</td>\n",
       "      <td>&lt;html xmlns:v=\"urn:schemas-microsoft-com:vml\"\\...</td>\n",
       "      <td>Wed May 10 21:46:33 2017</td>\n",
       "    </tr>\n",
       "  </tbody>\n",
       "</table>\n",
       "<p>99 rows × 4 columns</p>\n",
       "</div>"
      ],
      "text/plain": [
       "                                     _id  \\\n",
       "0   {'$oid': '591382287c40e83fd74240bd'}   \n",
       "1   {'$oid': '591389377c40e840c123dfef'}   \n",
       "2   {'$oid': '591389397c40e840c123dff0'}   \n",
       "3   {'$oid': '5913893c7c40e840c123dff1'}   \n",
       "4   {'$oid': '5913893f7c40e840c123dff2'}   \n",
       "..                                   ...   \n",
       "94  {'$oid': '59138a2f7c40e840c123e04c'}   \n",
       "95  {'$oid': '59138a317c40e840c123e04d'}   \n",
       "96  {'$oid': '59138a347c40e840c123e04e'}   \n",
       "97  {'$oid': '59138a377c40e840c123e04f'}   \n",
       "98  {'$oid': '59138a397c40e840c123e050'}   \n",
       "\n",
       "                                                  url  \\\n",
       "0   http://www.nuforc.org/webreports/133/S133978.html   \n",
       "1   http://www.nuforc.org/webreports/133/S133977.h...   \n",
       "2   http://www.nuforc.org/webreports/133/S133974.h...   \n",
       "3   http://www.nuforc.org/webreports/133/S133964.h...   \n",
       "4   http://www.nuforc.org/webreports/133/S133962.h...   \n",
       "..                                                ...   \n",
       "94  http://www.nuforc.org/webreports/133/S133980.h...   \n",
       "95  http://www.nuforc.org/webreports/133/S133923.h...   \n",
       "96  http://www.nuforc.org/webreports/133/S133928.h...   \n",
       "97  http://www.nuforc.org/webreports/133/S133891.h...   \n",
       "98  http://www.nuforc.org/webreports/133/S133907.h...   \n",
       "\n",
       "                                                 html  \\\n",
       "0   <html xmlns:v=\"urn:schemas-microsoft-com:vml\"\\...   \n",
       "1   <html xmlns:v=\"urn:schemas-microsoft-com:vml\"\\...   \n",
       "2   <html xmlns:v=\"urn:schemas-microsoft-com:vml\"\\...   \n",
       "3   <html xmlns:v=\"urn:schemas-microsoft-com:vml\"\\...   \n",
       "4   <html xmlns:v=\"urn:schemas-microsoft-com:vml\"\\...   \n",
       "..                                                ...   \n",
       "94  <html xmlns:v=\"urn:schemas-microsoft-com:vml\"\\...   \n",
       "95  <html xmlns:v=\"urn:schemas-microsoft-com:vml\"\\...   \n",
       "96  <html xmlns:v=\"urn:schemas-microsoft-com:vml\"\\...   \n",
       "97  <html xmlns:v=\"urn:schemas-microsoft-com:vml\"\\...   \n",
       "98  <html xmlns:v=\"urn:schemas-microsoft-com:vml\"\\...   \n",
       "\n",
       "                        time  \n",
       "0   Wed May 10 21:12:07 2017  \n",
       "1   Wed May 10 21:42:15 2017  \n",
       "2   Wed May 10 21:42:17 2017  \n",
       "3   Wed May 10 21:42:20 2017  \n",
       "4   Wed May 10 21:42:23 2017  \n",
       "..                       ...  \n",
       "94  Wed May 10 21:46:23 2017  \n",
       "95  Wed May 10 21:46:25 2017  \n",
       "96  Wed May 10 21:46:28 2017  \n",
       "97  Wed May 10 21:46:31 2017  \n",
       "98  Wed May 10 21:46:33 2017  \n",
       "\n",
       "[99 rows x 4 columns]"
      ]
     },
     "execution_count": 12,
     "metadata": {},
     "output_type": "execute_result"
    }
   ],
   "source": [
    "ufo"
   ]
  },
  {
   "cell_type": "code",
   "execution_count": 13,
   "metadata": {},
   "outputs": [
    {
     "data": {
      "text/plain": [
       "'<html xmlns:v=\"urn:schemas-microsoft-com:vml\"\\r\\nxmlns:o=\"urn:schemas-microsoft-com:office:office\"\\r\\nxmlns:w=\"urn:schemas-microsoft-com:office:word\"\\r\\nxmlns:m=\"http://schemas.microsoft.com/office/2004/12/omml\"\\r\\nxmlns=\"http://www.w3.org/TR/REC-html40\">\\r\\n\\r\\n<head>\\r\\n<meta http-equiv=Content-Type content=\"text/html; charset=windows-1252\">\\r\\n<meta name=ProgId content=Word.Document>\\r\\n<meta name=Generator content=\"Microsoft Word 15\">\\r\\n<meta name=Originator content=\"Microsoft Word 15\">\\r\\n<link rel=File-List href=\"STemplate_files/filelist.xml\">\\r\\n<!--[if gte mso 9]><xml>\\r\\n <o:DocumentProperties>\\r\\n  <o:Author>Christian Stepien</o:Author>\\r\\n  <o:LastAuthor>Christian Stepien</o:LastAuthor>\\r\\n  <o:Revision>3</o:Revision>\\r\\n  <o:TotalTime>1</o:TotalTime>\\r\\n  <o:Created>2014-02-14T21:30:00Z</o:Created>\\r\\n  <o:LastSaved>2014-02-14T21:35:00Z</o:LastSaved>\\r\\n  <o:Pages>1</o:Pages>\\r\\n  <o:Words>58</o:Words>\\r\\n  <o:Characters>331</o:Characters>\\r\\n  <o:Lines>2</o:Lines>\\r\\n  <o:Paragraphs>1</o:Paragraphs>\\r\\n  <o:CharactersWithSpaces>388</o:CharactersWithSpaces>\\r\\n  <o:Version>15.00</o:Version>\\r\\n </o:DocumentProperties>\\r\\n <o:OfficeDocumentSettings>\\r\\n  <o:AllowPNG/>\\r\\n </o:OfficeDocumentSettings>\\r\\n</xml><![endif]-->\\r\\n<link rel=themeData href=\"STemplate_files/themedata.thmx\">\\r\\n<link rel=colorSchemeMapping href=\"STemplate_files/colorschememapping.xml\">\\r\\n<!--[if gte mso 9]><xml>\\r\\n <w:WordDocument>\\r\\n  <w:View>Print</w:View>\\r\\n  <w:SpellingState>Clean</w:SpellingState>\\r\\n  <w:GrammarState>Clean</w:GrammarState>\\r\\n  <w:TrackMoves>false</w:TrackMoves>\\r\\n  <w:TrackFormatting/>\\r\\n  <w:ValidateAgainstSchemas/>\\r\\n  <w:SaveIfXMLInvalid>false</w:SaveIfXMLInvalid>\\r\\n  <w:IgnoreMixedContent>false</w:IgnoreMixedContent>\\r\\n  <w:AlwaysShowPlaceholderText>false</w:AlwaysShowPlaceholderText>\\r\\n  <w:DoNotPromoteQF/>\\r\\n  <w:LidThemeOther>EN-US</w:LidThemeOther>\\r\\n  <w:LidThemeAsian>X-NONE</w:LidThemeAsian>\\r\\n  <w:LidThemeComplexScript>X-NONE</w:LidThemeComplexScript>\\r\\n  <w:Compatibility>\\r\\n   <w:BreakWrappedTables/>\\r\\n   <w:SplitPgBreakAndParaMark/>\\r\\n  </w:Compatibility>\\r\\n  <w:BrowserLevel>MicrosoftInternetExplorer4</w:BrowserLevel>\\r\\n  <m:mathPr>\\r\\n   <m:mathFont m:val=\"Cambria Math\"/>\\r\\n   <m:brkBin m:val=\"before\"/>\\r\\n   <m:brkBinSub m:val=\"&#45;-\"/>\\r\\n   <m:smallFrac m:val=\"off\"/>\\r\\n   <m:dispDef/>\\r\\n   <m:lMargin m:val=\"0\"/>\\r\\n   <m:rMargin m:val=\"0\"/>\\r\\n   <m:defJc m:val=\"centerGroup\"/>\\r\\n   <m:wrapIndent m:val=\"1440\"/>\\r\\n   <m:intLim m:val=\"subSup\"/>\\r\\n   <m:naryLim m:val=\"undOvr\"/>\\r\\n  </m:mathPr></w:WordDocument>\\r\\n</xml><![endif]--><!--[if gte mso 9]><xml>\\r\\n <w:LatentStyles DefLockedState=\"false\" DefUnhideWhenUsed=\"false\"\\r\\n  DefSemiHidden=\"false\" DefQFormat=\"false\" DefPriority=\"99\"\\r\\n  LatentStyleCount=\"371\">\\r\\n  <w:LsdException Locked=\"false\" Priority=\"0\" QFormat=\"true\" Name=\"Normal\"/>\\r\\n  <w:LsdException Locked=\"false\" Priority=\"9\" QFormat=\"true\" Name=\"heading 1\"/>\\r\\n  <w:LsdException Locked=\"false\" Priority=\"9\" SemiHidden=\"true\"\\r\\n   UnhideWhenUsed=\"true\" QFormat=\"true\" Name=\"heading 2\"/>\\r\\n  <w:LsdException Locked=\"false\" Priority=\"9\" SemiHidden=\"true\"\\r\\n   UnhideWhenUsed=\"true\" QFormat=\"true\" Name=\"heading 3\"/>\\r\\n  <w:LsdException Locked=\"false\" Priority=\"9\" SemiHidden=\"true\"\\r\\n   UnhideWhenUsed=\"true\" QFormat=\"true\" Name=\"heading 4\"/>\\r\\n  <w:LsdException Locked=\"false\" Priority=\"9\" SemiHidden=\"true\"\\r\\n   UnhideWhenUsed=\"true\" QFormat=\"true\" Name=\"heading 5\"/>\\r\\n  <w:LsdException Locked=\"false\" Priority=\"9\" SemiHidden=\"true\"\\r\\n   UnhideWhenUsed=\"true\" QFormat=\"true\" Name=\"heading 6\"/>\\r\\n  <w:LsdException Locked=\"false\" Priority=\"9\" SemiHidden=\"true\"\\r\\n   UnhideWhenUsed=\"true\" QFormat=\"true\" Name=\"heading 7\"/>\\r\\n  <w:LsdException Locked=\"false\" Priority=\"9\" SemiHidden=\"true\"\\r\\n   UnhideWhenUsed=\"true\" QFormat=\"true\" Name=\"heading 8\"/>\\r\\n  <w:LsdException Locked=\"false\" Priority=\"9\" SemiHidden=\"true\"\\r\\n   UnhideWhenUsed=\"true\" QFormat=\"true\" Name=\"heading 9\"/>\\r\\n  <w:LsdException Locked=\"false\" SemiHidden=\"true\" UnhideWhenUsed=\"true\"\\r\\n   Name=\"index 1\"/>\\r\\n  <w:LsdException Locked=\"false\" SemiHidden=\"true\" UnhideWhenUsed=\"true\"\\r\\n   Name=\"index 2\"/>\\r\\n  <w:LsdException Locked=\"false\" SemiHidden=\"true\" UnhideWhenUsed=\"true\"\\r\\n   Name=\"index 3\"/>\\r\\n  <w:LsdException Locked=\"false\" SemiHidden=\"true\" UnhideWhenUsed=\"true\"\\r\\n   Name=\"index 4\"/>\\r\\n  <w:LsdException Locked=\"false\" SemiHidden=\"true\" UnhideWhenUsed=\"true\"\\r\\n   Name=\"index 5\"/>\\r\\n  <w:LsdException Locked=\"false\" SemiHidden=\"true\" UnhideWhenUsed=\"true\"\\r\\n   Name=\"index 6\"/>\\r\\n  <w:LsdException Locked=\"false\" SemiHidden=\"true\" UnhideWhenUsed=\"true\"\\r\\n   Name=\"index 7\"/>\\r\\n  <w:LsdException Locked=\"false\" SemiHidden=\"true\" UnhideWhenUsed=\"true\"\\r\\n   Name=\"index 8\"/>\\r\\n  <w:LsdException Locked=\"false\" SemiHidden=\"true\" UnhideWhenUsed=\"true\"\\r\\n   Name=\"index 9\"/>\\r\\n  <w:LsdException Locked=\"false\" Priority=\"39\" SemiHidden=\"true\"\\r\\n   UnhideWhenUsed=\"true\" Name=\"toc 1\"/>\\r\\n  <w:LsdException Locked=\"false\" Priority=\"39\" SemiHidden=\"true\"\\r\\n   UnhideWhenUsed=\"true\" Name=\"toc 2\"/>\\r\\n  <w:LsdException Locked=\"false\" Priority=\"39\" SemiHidden=\"true\"\\r\\n   UnhideWhenUsed=\"true\" Name=\"toc 3\"/>\\r\\n  <w:LsdException Locked=\"false\" Priority=\"39\" SemiHidden=\"true\"\\r\\n   UnhideWhenUsed=\"true\" Name=\"toc 4\"/>\\r\\n  <w:LsdException Locked=\"false\" Priority=\"39\" SemiHidden=\"true\"\\r\\n   UnhideWhenUsed=\"true\" Name=\"toc 5\"/>\\r\\n  <w:LsdException Locked=\"false\" Priority=\"39\" SemiHidden=\"true\"\\r\\n   UnhideWhenUsed=\"true\" Name=\"toc 6\"/>\\r\\n  <w:LsdException Locked=\"false\" Priority=\"39\" SemiHidden=\"true\"\\r\\n   UnhideWhenUsed=\"true\" Name=\"toc 7\"/>\\r\\n  <w:LsdException Locked=\"false\" Priority=\"39\" SemiHidden=\"true\"\\r\\n   UnhideWhenUsed=\"true\" Name=\"toc 8\"/>\\r\\n  <w:LsdException Locked=\"false\" Priority=\"39\" SemiHidden=\"true\"\\r\\n   UnhideWhenUsed=\"true\" Name=\"toc 9\"/>\\r\\n  <w:LsdException Locked=\"false\" SemiHidden=\"true\" UnhideWhenUsed=\"true\"\\r\\n   Name=\"Normal Indent\"/>\\r\\n  <w:LsdException Locked=\"false\" SemiHidden=\"true\" UnhideWhenUsed=\"true\"\\r\\n   Name=\"footnote text\"/>\\r\\n  <w:LsdException Locked=\"false\" SemiHidden=\"true\" UnhideWhenUsed=\"true\"\\r\\n   Name=\"annotation text\"/>\\r\\n  <w:LsdException Locked=\"false\" SemiHidden=\"true\" UnhideWhenUsed=\"true\"\\r\\n   Name=\"header\"/>\\r\\n  <w:LsdException Locked=\"false\" SemiHidden=\"true\" UnhideWhenUsed=\"true\"\\r\\n   Name=\"footer\"/>\\r\\n  <w:LsdException Locked=\"false\" SemiHidden=\"true\" UnhideWhenUsed=\"true\"\\r\\n   Name=\"index heading\"/>\\r\\n  <w:LsdException Locked=\"false\" Priority=\"35\" SemiHidden=\"true\"\\r\\n   UnhideWhenUsed=\"true\" QFormat=\"true\" Name=\"caption\"/>\\r\\n  <w:LsdException Locked=\"false\" SemiHidden=\"true\" UnhideWhenUsed=\"true\"\\r\\n   Name=\"table of figures\"/>\\r\\n  <w:LsdException Locked=\"false\" SemiHidden=\"true\" UnhideWhenUsed=\"true\"\\r\\n   Name=\"envelope address\"/>\\r\\n  <w:LsdException Locked=\"false\" SemiHidden=\"true\" UnhideWhenUsed=\"true\"\\r\\n   Name=\"envelope return\"/>\\r\\n  <w:LsdException Locked=\"false\" SemiHidden=\"true\" UnhideWhenUsed=\"true\"\\r\\n   Name=\"footnote reference\"/>\\r\\n  <w:LsdException Locked=\"false\" SemiHidden=\"true\" UnhideWhenUsed=\"true\"\\r\\n   Name=\"annotation reference\"/>\\r\\n  <w:LsdException Locked=\"false\" SemiHidden=\"true\" UnhideWhenUsed=\"true\"\\r\\n   Name=\"line number\"/>\\r\\n  <w:LsdException Locked=\"false\" SemiHidden=\"true\" UnhideWhenUsed=\"true\"\\r\\n   Name=\"page number\"/>\\r\\n  <w:LsdException Locked=\"false\" SemiHidden=\"true\" UnhideWhenUsed=\"true\"\\r\\n   Name=\"endnote reference\"/>\\r\\n  <w:LsdException Locked=\"false\" SemiHidden=\"true\" UnhideWhenUsed=\"true\"\\r\\n   Name=\"endnote text\"/>\\r\\n  <w:LsdException Locked=\"false\" SemiHidden=\"true\" UnhideWhenUsed=\"true\"\\r\\n   Name=\"table of authorities\"/>\\r\\n  <w:LsdException Locked=\"false\" SemiHidden=\"true\" UnhideWhenUsed=\"true\"\\r\\n   Name=\"macro\"/>\\r\\n  <w:LsdException Locked=\"false\" SemiHidden=\"true\" UnhideWhenUsed=\"true\"\\r\\n   Name=\"toa heading\"/>\\r\\n  <w:LsdException Locked=\"false\" SemiHidden=\"true\" UnhideWhenUsed=\"true\"\\r\\n   Name=\"List\"/>\\r\\n  <w:LsdException Locked=\"false\" SemiHidden=\"true\" UnhideWhenUsed=\"true\"\\r\\n   Name=\"List Bullet\"/>\\r\\n  <w:LsdException Locked=\"false\" SemiHidden=\"true\" UnhideWhenUsed=\"true\"\\r\\n   Name=\"List Number\"/>\\r\\n  <w:LsdException Locked=\"false\" SemiHidden=\"true\" UnhideWhenUsed=\"true\"\\r\\n   Name=\"List 2\"/>\\r\\n  <w:LsdException Locked=\"false\" SemiHidden=\"true\" UnhideWhenUsed=\"true\"\\r\\n   Name=\"List 3\"/>\\r\\n  <w:LsdException Locked=\"false\" SemiHidden=\"true\" UnhideWhenUsed=\"true\"\\r\\n   Name=\"List 4\"/>\\r\\n  <w:LsdException Locked=\"false\" SemiHidden=\"true\" UnhideWhenUsed=\"true\"\\r\\n   Name=\"List 5\"/>\\r\\n  <w:LsdException Locked=\"false\" SemiHidden=\"true\" UnhideWhenUsed=\"true\"\\r\\n   Name=\"List Bullet 2\"/>\\r\\n  <w:LsdException Locked=\"false\" SemiHidden=\"true\" UnhideWhenUsed=\"true\"\\r\\n   Name=\"List Bullet 3\"/>\\r\\n  <w:LsdException Locked=\"false\" SemiHidden=\"true\" UnhideWhenUsed=\"true\"\\r\\n   Name=\"List Bullet 4\"/>\\r\\n  <w:LsdException Locked=\"false\" SemiHidden=\"true\" UnhideWhenUsed=\"true\"\\r\\n   Name=\"List Bullet 5\"/>\\r\\n  <w:LsdException Locked=\"false\" SemiHidden=\"true\" UnhideWhenUsed=\"true\"\\r\\n   Name=\"List Number 2\"/>\\r\\n  <w:LsdException Locked=\"false\" SemiHidden=\"true\" UnhideWhenUsed=\"true\"\\r\\n   Name=\"List Number 3\"/>\\r\\n  <w:LsdException Locked=\"false\" SemiHidden=\"true\" UnhideWhenUsed=\"true\"\\r\\n   Name=\"List Number 4\"/>\\r\\n  <w:LsdException Locked=\"false\" SemiHidden=\"true\" UnhideWhenUsed=\"true\"\\r\\n   Name=\"List Number 5\"/>\\r\\n  <w:LsdException Locked=\"false\" Priority=\"10\" QFormat=\"true\" Name=\"Title\"/>\\r\\n  <w:LsdException Locked=\"false\" SemiHidden=\"true\" UnhideWhenUsed=\"true\"\\r\\n   Name=\"Closing\"/>\\r\\n  <w:LsdException Locked=\"false\" SemiHidden=\"true\" UnhideWhenUsed=\"true\"\\r\\n   Name=\"Signature\"/>\\r\\n  <w:LsdException Locked=\"false\" Priority=\"1\" SemiHidden=\"true\"\\r\\n   UnhideWhenUsed=\"true\" Name=\"Default Paragraph Font\"/>\\r\\n  <w:LsdException Locked=\"false\" SemiHidden=\"true\" UnhideWhenUsed=\"true\"\\r\\n   Name=\"Body Text\"/>\\r\\n  <w:LsdException Locked=\"false\" SemiHidden=\"true\" UnhideWhenUsed=\"true\"\\r\\n   Name=\"Body Text Indent\"/>\\r\\n  <w:LsdException Locked=\"false\" SemiHidden=\"true\" UnhideWhenUsed=\"true\"\\r\\n   Name=\"List Continue\"/>\\r\\n  <w:LsdException Locked=\"false\" SemiHidden=\"true\" UnhideWhenUsed=\"true\"\\r\\n   Name=\"List Continue 2\"/>\\r\\n  <w:LsdException Locked=\"false\" SemiHidden=\"true\" UnhideWhenUsed=\"true\"\\r\\n   Name=\"List Continue 3\"/>\\r\\n  <w:LsdException Locked=\"false\" SemiHidden=\"true\" UnhideWhenUsed=\"true\"\\r\\n   Name=\"List Continue 4\"/>\\r\\n  <w:LsdException Locked=\"false\" SemiHidden=\"true\" UnhideWhenUsed=\"true\"\\r\\n   Name=\"List Continue 5\"/>\\r\\n  <w:LsdException Locked=\"false\" SemiHidden=\"true\" UnhideWhenUsed=\"true\"\\r\\n   Name=\"Message Header\"/>\\r\\n  <w:LsdException Locked=\"false\" Priority=\"11\" QFormat=\"true\" Name=\"Subtitle\"/>\\r\\n  <w:LsdException Locked=\"false\" SemiHidden=\"true\" UnhideWhenUsed=\"true\"\\r\\n   Name=\"Salutation\"/>\\r\\n  <w:LsdException Locked=\"false\" SemiHidden=\"true\" UnhideWhenUsed=\"true\"\\r\\n   Name=\"Date\"/>\\r\\n  <w:LsdException Locked=\"false\" SemiHidden=\"true\" UnhideWhenUsed=\"true\"\\r\\n   Name=\"Body Text First Indent\"/>\\r\\n  <w:LsdException Locked=\"false\" SemiHidden=\"true\" UnhideWhenUsed=\"true\"\\r\\n   Name=\"Body Text First Indent 2\"/>\\r\\n  <w:LsdException Locked=\"false\" SemiHidden=\"true\" UnhideWhenUsed=\"true\"\\r\\n   Name=\"Note Heading\"/>\\r\\n  <w:LsdException Locked=\"false\" SemiHidden=\"true\" UnhideWhenUsed=\"true\"\\r\\n   Name=\"Body Text 2\"/>\\r\\n  <w:LsdException Locked=\"false\" SemiHidden=\"true\" UnhideWhenUsed=\"true\"\\r\\n   Name=\"Body Text 3\"/>\\r\\n  <w:LsdException Locked=\"false\" SemiHidden=\"true\" UnhideWhenUsed=\"true\"\\r\\n   Name=\"Body Text Indent 2\"/>\\r\\n  <w:LsdException Locked=\"false\" SemiHidden=\"true\" UnhideWhenUsed=\"true\"\\r\\n   Name=\"Body Text Indent 3\"/>\\r\\n  <w:LsdException Locked=\"false\" SemiHidden=\"true\" UnhideWhenUsed=\"true\"\\r\\n   Name=\"Block Text\"/>\\r\\n  <w:LsdException Locked=\"false\" SemiHidden=\"true\" UnhideWhenUsed=\"true\"\\r\\n   Name=\"Hyperlink\"/>\\r\\n  <w:LsdException Locked=\"false\" SemiHidden=\"true\" UnhideWhenUsed=\"true\"\\r\\n   Name=\"FollowedHyperlink\"/>\\r\\n  <w:LsdException Locked=\"false\" Priority=\"22\" QFormat=\"true\" Name=\"Strong\"/>\\r\\n  <w:LsdException Locked=\"false\" Priority=\"20\" QFormat=\"true\" Name=\"Emphasis\"/>\\r\\n  <w:LsdException Locked=\"false\" SemiHidden=\"true\" UnhideWhenUsed=\"true\"\\r\\n   Name=\"Document Map\"/>\\r\\n  <w:LsdException Locked=\"false\" SemiHidden=\"true\" UnhideWhenUsed=\"true\"\\r\\n   Name=\"Plain Text\"/>\\r\\n  <w:LsdException Locked=\"false\" SemiHidden=\"true\" UnhideWhenUsed=\"true\"\\r\\n   Name=\"E-mail Signature\"/>\\r\\n  <w:LsdException Locked=\"false\" SemiHidden=\"true\" UnhideWhenUsed=\"true\"\\r\\n   Name=\"HTML Top of Form\"/>\\r\\n  <w:LsdException Locked=\"false\" SemiHidden=\"true\" UnhideWhenUsed=\"true\"\\r\\n   Name=\"HTML Bottom of Form\"/>\\r\\n  <w:LsdException Locked=\"false\" SemiHidden=\"true\" UnhideWhenUsed=\"true\"\\r\\n   Name=\"Normal (Web)\"/>\\r\\n  <w:LsdException Locked=\"false\" SemiHidden=\"true\" UnhideWhenUsed=\"true\"\\r\\n   Name=\"HTML Acronym\"/>\\r\\n  <w:LsdException Locked=\"false\" SemiHidden=\"true\" UnhideWhenUsed=\"true\"\\r\\n   Name=\"HTML Address\"/>\\r\\n  <w:LsdException Locked=\"false\" SemiHidden=\"true\" UnhideWhenUsed=\"true\"\\r\\n   Name=\"HTML Cite\"/>\\r\\n  <w:LsdException Locked=\"false\" SemiHidden=\"true\" UnhideWhenUsed=\"true\"\\r\\n   Name=\"HTML Code\"/>\\r\\n  <w:LsdException Locked=\"false\" SemiHidden=\"true\" UnhideWhenUsed=\"true\"\\r\\n   Name=\"HTML Definition\"/>\\r\\n  <w:LsdException Locked=\"false\" SemiHidden=\"true\" UnhideWhenUsed=\"true\"\\r\\n   Name=\"HTML Keyboard\"/>\\r\\n  <w:LsdException Locked=\"false\" SemiHidden=\"true\" UnhideWhenUsed=\"true\"\\r\\n   Name=\"HTML Preformatted\"/>\\r\\n  <w:LsdException Locked=\"false\" SemiHidden=\"true\" UnhideWhenUsed=\"true\"\\r\\n   Name=\"HTML Sample\"/>\\r\\n  <w:LsdException Locked=\"false\" SemiHidden=\"true\" UnhideWhenUsed=\"true\"\\r\\n   Name=\"HTML Typewriter\"/>\\r\\n  <w:LsdException Locked=\"false\" SemiHidden=\"true\" UnhideWhenUsed=\"true\"\\r\\n   Name=\"HTML Variable\"/>\\r\\n  <w:LsdException Locked=\"false\" SemiHidden=\"true\" UnhideWhenUsed=\"true\"\\r\\n   Name=\"Normal Table\"/>\\r\\n  <w:LsdException Locked=\"false\" SemiHidden=\"true\" UnhideWhenUsed=\"true\"\\r\\n   Name=\"annotation subject\"/>\\r\\n  <w:LsdException Locked=\"false\" SemiHidden=\"true\" UnhideWhenUsed=\"true\"\\r\\n   Name=\"No List\"/>\\r\\n  <w:LsdException Locked=\"false\" SemiHidden=\"true\" UnhideWhenUsed=\"true\"\\r\\n   Name=\"Outline List 1\"/>\\r\\n  <w:LsdException Locked=\"false\" SemiHidden=\"true\" UnhideWhenUsed=\"true\"\\r\\n   Name=\"Outline List 2\"/>\\r\\n  <w:LsdException Locked=\"false\" SemiHidden=\"true\" UnhideWhenUsed=\"true\"\\r\\n   Name=\"Outline List 3\"/>\\r\\n  <w:LsdException Locked=\"false\" SemiHidden=\"true\" UnhideWhenUsed=\"true\"\\r\\n   Name=\"Table Simple 1\"/>\\r\\n  <w:LsdException Locked=\"false\" SemiHidden=\"true\" UnhideWhenUsed=\"true\"\\r\\n   Name=\"Table Simple 2\"/>\\r\\n  <w:LsdException Locked=\"false\" SemiHidden=\"true\" UnhideWhenUsed=\"true\"\\r\\n   Name=\"Table Simple 3\"/>\\r\\n  <w:LsdException Locked=\"false\" SemiHidden=\"true\" UnhideWhenUsed=\"true\"\\r\\n   Name=\"Table Classic 1\"/>\\r\\n  <w:LsdException Locked=\"false\" SemiHidden=\"true\" UnhideWhenUsed=\"true\"\\r\\n   Name=\"Table Classic 2\"/>\\r\\n  <w:LsdException Locked=\"false\" SemiHidden=\"true\" UnhideWhenUsed=\"true\"\\r\\n   Name=\"Table Classic 3\"/>\\r\\n  <w:LsdException Locked=\"false\" SemiHidden=\"true\" UnhideWhenUsed=\"true\"\\r\\n   Name=\"Table Classic 4\"/>\\r\\n  <w:LsdException Locked=\"false\" SemiHidden=\"true\" UnhideWhenUsed=\"true\"\\r\\n   Name=\"Table Colorful 1\"/>\\r\\n  <w:LsdException Locked=\"false\" SemiHidden=\"true\" UnhideWhenUsed=\"true\"\\r\\n   Name=\"Table Colorful 2\"/>\\r\\n  <w:LsdException Locked=\"false\" SemiHidden=\"true\" UnhideWhenUsed=\"true\"\\r\\n   Name=\"Table Colorful 3\"/>\\r\\n  <w:LsdException Locked=\"false\" SemiHidden=\"true\" UnhideWhenUsed=\"true\"\\r\\n   Name=\"Table Columns 1\"/>\\r\\n  <w:LsdException Locked=\"false\" SemiHidden=\"true\" UnhideWhenUsed=\"true\"\\r\\n   Name=\"Table Columns 2\"/>\\r\\n  <w:LsdException Locked=\"false\" SemiHidden=\"true\" UnhideWhenUsed=\"true\"\\r\\n   Name=\"Table Columns 3\"/>\\r\\n  <w:LsdException Locked=\"false\" SemiHidden=\"true\" UnhideWhenUsed=\"true\"\\r\\n   Name=\"Table Columns 4\"/>\\r\\n  <w:LsdException Locked=\"false\" SemiHidden=\"true\" UnhideWhenUsed=\"true\"\\r\\n   Name=\"Table Columns 5\"/>\\r\\n  <w:LsdException Locked=\"false\" SemiHidden=\"true\" UnhideWhenUsed=\"true\"\\r\\n   Name=\"Table Grid 1\"/>\\r\\n  <w:LsdException Locked=\"false\" SemiHidden=\"true\" UnhideWhenUsed=\"true\"\\r\\n   Name=\"Table Grid 2\"/>\\r\\n  <w:LsdException Locked=\"false\" SemiHidden=\"true\" UnhideWhenUsed=\"true\"\\r\\n   Name=\"Table Grid 3\"/>\\r\\n  <w:LsdException Locked=\"false\" SemiHidden=\"true\" UnhideWhenUsed=\"true\"\\r\\n   Name=\"Table Grid 4\"/>\\r\\n  <w:LsdException Locked=\"false\" SemiHidden=\"true\" UnhideWhenUsed=\"true\"\\r\\n   Name=\"Table Grid 5\"/>\\r\\n  <w:LsdException Locked=\"false\" SemiHidden=\"true\" UnhideWhenUsed=\"true\"\\r\\n   Name=\"Table Grid 6\"/>\\r\\n  <w:LsdException Locked=\"false\" SemiHidden=\"true\" UnhideWhenUsed=\"true\"\\r\\n   Name=\"Table Grid 7\"/>\\r\\n  <w:LsdException Locked=\"false\" SemiHidden=\"true\" UnhideWhenUsed=\"true\"\\r\\n   Name=\"Table Grid 8\"/>\\r\\n  <w:LsdException Locked=\"false\" SemiHidden=\"true\" UnhideWhenUsed=\"true\"\\r\\n   Name=\"Table List 1\"/>\\r\\n  <w:LsdException Locked=\"false\" SemiHidden=\"true\" UnhideWhenUsed=\"true\"\\r\\n   Name=\"Table List 2\"/>\\r\\n  <w:LsdException Locked=\"false\" SemiHidden=\"true\" UnhideWhenUsed=\"true\"\\r\\n   Name=\"Table List 3\"/>\\r\\n  <w:LsdException Locked=\"false\" SemiHidden=\"true\" UnhideWhenUsed=\"true\"\\r\\n   Name=\"Table List 4\"/>\\r\\n  <w:LsdException Locked=\"false\" SemiHidden=\"true\" UnhideWhenUsed=\"true\"\\r\\n   Name=\"Table List 5\"/>\\r\\n  <w:LsdException Locked=\"false\" SemiHidden=\"true\" UnhideWhenUsed=\"true\"\\r\\n   Name=\"Table List 6\"/>\\r\\n  <w:LsdException Locked=\"false\" SemiHidden=\"true\" UnhideWhenUsed=\"true\"\\r\\n   Name=\"Table List 7\"/>\\r\\n  <w:LsdException Locked=\"false\" SemiHidden=\"true\" UnhideWhenUsed=\"true\"\\r\\n   Name=\"Table List 8\"/>\\r\\n  <w:LsdException Locked=\"false\" SemiHidden=\"true\" UnhideWhenUsed=\"true\"\\r\\n   Name=\"Table 3D effects 1\"/>\\r\\n  <w:LsdException Locked=\"false\" SemiHidden=\"true\" UnhideWhenUsed=\"true\"\\r\\n   Name=\"Table 3D effects 2\"/>\\r\\n  <w:LsdException Locked=\"false\" SemiHidden=\"true\" UnhideWhenUsed=\"true\"\\r\\n   Name=\"Table 3D effects 3\"/>\\r\\n  <w:LsdException Locked=\"false\" SemiHidden=\"true\" UnhideWhenUsed=\"true\"\\r\\n   Name=\"Table Contemporary\"/>\\r\\n  <w:LsdException Locked=\"false\" SemiHidden=\"true\" UnhideWhenUsed=\"true\"\\r\\n   Name=\"Table Elegant\"/>\\r\\n  <w:LsdException Locked=\"false\" SemiHidden=\"true\" UnhideWhenUsed=\"true\"\\r\\n   Name=\"Table Professional\"/>\\r\\n  <w:LsdException Locked=\"false\" SemiHidden=\"true\" UnhideWhenUsed=\"true\"\\r\\n   Name=\"Table Subtle 1\"/>\\r\\n  <w:LsdException Locked=\"false\" SemiHidden=\"true\" UnhideWhenUsed=\"true\"\\r\\n   Name=\"Table Subtle 2\"/>\\r\\n  <w:LsdException Locked=\"false\" SemiHidden=\"true\" UnhideWhenUsed=\"true\"\\r\\n   Name=\"Table Web 1\"/>\\r\\n  <w:LsdException Locked=\"false\" SemiHidden=\"true\" UnhideWhenUsed=\"true\"\\r\\n   Name=\"Table Web 2\"/>\\r\\n  <w:LsdException Locked=\"false\" SemiHidden=\"true\" UnhideWhenUsed=\"true\"\\r\\n   Name=\"Table Web 3\"/>\\r\\n  <w:LsdException Locked=\"false\" SemiHidden=\"true\" UnhideWhenUsed=\"true\"\\r\\n   Name=\"Balloon Text\"/>\\r\\n  <w:LsdException Locked=\"false\" Priority=\"39\" Name=\"Table Grid\"/>\\r\\n  <w:LsdException Locked=\"false\" SemiHidden=\"true\" UnhideWhenUsed=\"true\"\\r\\n   Name=\"Table Theme\"/>\\r\\n  <w:LsdException Locked=\"false\" SemiHidden=\"true\" Name=\"Placeholder Text\"/>\\r\\n  <w:LsdException Locked=\"false\" Priority=\"1\" QFormat=\"true\" Name=\"No Spacing\"/>\\r\\n  <w:LsdException Locked=\"false\" Priority=\"60\" Name=\"Light Shading\"/>\\r\\n  <w:LsdException Locked=\"false\" Priority=\"61\" Name=\"Light List\"/>\\r\\n  <w:LsdException Locked=\"false\" Priority=\"62\" Name=\"Light Grid\"/>\\r\\n  <w:LsdException Locked=\"false\" Priority=\"63\" Name=\"Medium Shading 1\"/>\\r\\n  <w:LsdException Locked=\"false\" Priority=\"64\" Name=\"Medium Shading 2\"/>\\r\\n  <w:LsdException Locked=\"false\" Priority=\"65\" Name=\"Medium List 1\"/>\\r\\n  <w:LsdException Locked=\"false\" Priority=\"66\" Name=\"Medium List 2\"/>\\r\\n  <w:LsdException Locked=\"false\" Priority=\"67\" Name=\"Medium Grid 1\"/>\\r\\n  <w:LsdException Locked=\"false\" Priority=\"68\" Name=\"Medium Grid 2\"/>\\r\\n  <w:LsdException Locked=\"false\" Priority=\"69\" Name=\"Medium Grid 3\"/>\\r\\n  <w:LsdException Locked=\"false\" Priority=\"70\" Name=\"Dark List\"/>\\r\\n  <w:LsdException Locked=\"false\" Priority=\"71\" Name=\"Colorful Shading\"/>\\r\\n  <w:LsdException Locked=\"false\" Priority=\"72\" Name=\"Colorful List\"/>\\r\\n  <w:LsdException Locked=\"false\" Priority=\"73\" Name=\"Colorful Grid\"/>\\r\\n  <w:LsdException Locked=\"false\" Priority=\"60\" Name=\"Light Shading Accent 1\"/>\\r\\n  <w:LsdException Locked=\"false\" Priority=\"61\" Name=\"Light List Accent 1\"/>\\r\\n  <w:LsdException Locked=\"false\" Priority=\"62\" Name=\"Light Grid Accent 1\"/>\\r\\n  <w:LsdException Locked=\"false\" Priority=\"63\" Name=\"Medium Shading 1 Accent 1\"/>\\r\\n  <w:LsdException Locked=\"false\" Priority=\"64\" Name=\"Medium Shading 2 Accent 1\"/>\\r\\n  <w:LsdException Locked=\"false\" Priority=\"65\" Name=\"Medium List 1 Accent 1\"/>\\r\\n  <w:LsdException Locked=\"false\" SemiHidden=\"true\" Name=\"Revision\"/>\\r\\n  <w:LsdException Locked=\"false\" Priority=\"34\" QFormat=\"true\"\\r\\n   Name=\"List Paragraph\"/>\\r\\n  <w:LsdException Locked=\"false\" Priority=\"29\" QFormat=\"true\" Name=\"Quote\"/>\\r\\n  <w:LsdException Locked=\"false\" Priority=\"30\" QFormat=\"true\"\\r\\n   Name=\"Intense Quote\"/>\\r\\n  <w:LsdException Locked=\"false\" Priority=\"66\" Name=\"Medium List 2 Accent 1\"/>\\r\\n  <w:LsdException Locked=\"false\" Priority=\"67\" Name=\"Medium Grid 1 Accent 1\"/>\\r\\n  <w:LsdException Locked=\"false\" Priority=\"68\" Name=\"Medium Grid 2 Accent 1\"/>\\r\\n  <w:LsdException Locked=\"false\" Priority=\"69\" Name=\"Medium Grid 3 Accent 1\"/>\\r\\n  <w:LsdException Locked=\"false\" Priority=\"70\" Name=\"Dark List Accent 1\"/>\\r\\n  <w:LsdException Locked=\"false\" Priority=\"71\" Name=\"Colorful Shading Accent 1\"/>\\r\\n  <w:LsdException Locked=\"false\" Priority=\"72\" Name=\"Colorful List Accent 1\"/>\\r\\n  <w:LsdException Locked=\"false\" Priority=\"73\" Name=\"Colorful Grid Accent 1\"/>\\r\\n  <w:LsdException Locked=\"false\" Priority=\"60\" Name=\"Light Shading Accent 2\"/>\\r\\n  <w:LsdException Locked=\"false\" Priority=\"61\" Name=\"Light List Accent 2\"/>\\r\\n  <w:LsdException Locked=\"false\" Priority=\"62\" Name=\"Light Grid Accent 2\"/>\\r\\n  <w:LsdException Locked=\"false\" Priority=\"63\" Name=\"Medium Shading 1 Accent 2\"/>\\r\\n  <w:LsdException Locked=\"false\" Priority=\"64\" Name=\"Medium Shading 2 Accent 2\"/>\\r\\n  <w:LsdException Locked=\"false\" Priority=\"65\" Name=\"Medium List 1 Accent 2\"/>\\r\\n  <w:LsdException Locked=\"false\" Priority=\"66\" Name=\"Medium List 2 Accent 2\"/>\\r\\n  <w:LsdException Locked=\"false\" Priority=\"67\" Name=\"Medium Grid 1 Accent 2\"/>\\r\\n  <w:LsdException Locked=\"false\" Priority=\"68\" Name=\"Medium Grid 2 Accent 2\"/>\\r\\n  <w:LsdException Locked=\"false\" Priority=\"69\" Name=\"Medium Grid 3 Accent 2\"/>\\r\\n  <w:LsdException Locked=\"false\" Priority=\"70\" Name=\"Dark List Accent 2\"/>\\r\\n  <w:LsdException Locked=\"false\" Priority=\"71\" Name=\"Colorful Shading Accent 2\"/>\\r\\n  <w:LsdException Locked=\"false\" Priority=\"72\" Name=\"Colorful List Accent 2\"/>\\r\\n  <w:LsdException Locked=\"false\" Priority=\"73\" Name=\"Colorful Grid Accent 2\"/>\\r\\n  <w:LsdException Locked=\"false\" Priority=\"60\" Name=\"Light Shading Accent 3\"/>\\r\\n  <w:LsdException Locked=\"false\" Priority=\"61\" Name=\"Light List Accent 3\"/>\\r\\n  <w:LsdException Locked=\"false\" Priority=\"62\" Name=\"Light Grid Accent 3\"/>\\r\\n  <w:LsdException Locked=\"false\" Priority=\"63\" Name=\"Medium Shading 1 Accent 3\"/>\\r\\n  <w:LsdException Locked=\"false\" Priority=\"64\" Name=\"Medium Shading 2 Accent 3\"/>\\r\\n  <w:LsdException Locked=\"false\" Priority=\"65\" Name=\"Medium List 1 Accent 3\"/>\\r\\n  <w:LsdException Locked=\"false\" Priority=\"66\" Name=\"Medium List 2 Accent 3\"/>\\r\\n  <w:LsdException Locked=\"false\" Priority=\"67\" Name=\"Medium Grid 1 Accent 3\"/>\\r\\n  <w:LsdException Locked=\"false\" Priority=\"68\" Name=\"Medium Grid 2 Accent 3\"/>\\r\\n  <w:LsdException Locked=\"false\" Priority=\"69\" Name=\"Medium Grid 3 Accent 3\"/>\\r\\n  <w:LsdException Locked=\"false\" Priority=\"70\" Name=\"Dark List Accent 3\"/>\\r\\n  <w:LsdException Locked=\"false\" Priority=\"71\" Name=\"Colorful Shading Accent 3\"/>\\r\\n  <w:LsdException Locked=\"false\" Priority=\"72\" Name=\"Colorful List Accent 3\"/>\\r\\n  <w:LsdException Locked=\"false\" Priority=\"73\" Name=\"Colorful Grid Accent 3\"/>\\r\\n  <w:LsdException Locked=\"false\" Priority=\"60\" Name=\"Light Shading Accent 4\"/>\\r\\n  <w:LsdException Locked=\"false\" Priority=\"61\" Name=\"Light List Accent 4\"/>\\r\\n  <w:LsdException Locked=\"false\" Priority=\"62\" Name=\"Light Grid Accent 4\"/>\\r\\n  <w:LsdException Locked=\"false\" Priority=\"63\" Name=\"Medium Shading 1 Accent 4\"/>\\r\\n  <w:LsdException Locked=\"false\" Priority=\"64\" Name=\"Medium Shading 2 Accent 4\"/>\\r\\n  <w:LsdException Locked=\"false\" Priority=\"65\" Name=\"Medium List 1 Accent 4\"/>\\r\\n  <w:LsdException Locked=\"false\" Priority=\"66\" Name=\"Medium List 2 Accent 4\"/>\\r\\n  <w:LsdException Locked=\"false\" Priority=\"67\" Name=\"Medium Grid 1 Accent 4\"/>\\r\\n  <w:LsdException Locked=\"false\" Priority=\"68\" Name=\"Medium Grid 2 Accent 4\"/>\\r\\n  <w:LsdException Locked=\"false\" Priority=\"69\" Name=\"Medium Grid 3 Accent 4\"/>\\r\\n  <w:LsdException Locked=\"false\" Priority=\"70\" Name=\"Dark List Accent 4\"/>\\r\\n  <w:LsdException Locked=\"false\" Priority=\"71\" Name=\"Colorful Shading Accent 4\"/>\\r\\n  <w:LsdException Locked=\"false\" Priority=\"72\" Name=\"Colorful List Accent 4\"/>\\r\\n  <w:LsdException Locked=\"false\" Priority=\"73\" Name=\"Colorful Grid Accent 4\"/>\\r\\n  <w:LsdException Locked=\"false\" Priority=\"60\" Name=\"Light Shading Accent 5\"/>\\r\\n  <w:LsdException Locked=\"false\" Priority=\"61\" Name=\"Light List Accent 5\"/>\\r\\n  <w:LsdException Locked=\"false\" Priority=\"62\" Name=\"Light Grid Accent 5\"/>\\r\\n  <w:LsdException Locked=\"false\" Priority=\"63\" Name=\"Medium Shading 1 Accent 5\"/>\\r\\n  <w:LsdException Locked=\"false\" Priority=\"64\" Name=\"Medium Shading 2 Accent 5\"/>\\r\\n  <w:LsdException Locked=\"false\" Priority=\"65\" Name=\"Medium List 1 Accent 5\"/>\\r\\n  <w:LsdException Locked=\"false\" Priority=\"66\" Name=\"Medium List 2 Accent 5\"/>\\r\\n  <w:LsdException Locked=\"false\" Priority=\"67\" Name=\"Medium Grid 1 Accent 5\"/>\\r\\n  <w:LsdException Locked=\"false\" Priority=\"68\" Name=\"Medium Grid 2 Accent 5\"/>\\r\\n  <w:LsdException Locked=\"false\" Priority=\"69\" Name=\"Medium Grid 3 Accent 5\"/>\\r\\n  <w:LsdException Locked=\"false\" Priority=\"70\" Name=\"Dark List Accent 5\"/>\\r\\n  <w:LsdException Locked=\"false\" Priority=\"71\" Name=\"Colorful Shading Accent 5\"/>\\r\\n  <w:LsdException Locked=\"false\" Priority=\"72\" Name=\"Colorful List Accent 5\"/>\\r\\n  <w:LsdException Locked=\"false\" Priority=\"73\" Name=\"Colorful Grid Accent 5\"/>\\r\\n  <w:LsdException Locked=\"false\" Priority=\"60\" Name=\"Light Shading Accent 6\"/>\\r\\n  <w:LsdException Locked=\"false\" Priority=\"61\" Name=\"Light List Accent 6\"/>\\r\\n  <w:LsdException Locked=\"false\" Priority=\"62\" Name=\"Light Grid Accent 6\"/>\\r\\n  <w:LsdException Locked=\"false\" Priority=\"63\" Name=\"Medium Shading 1 Accent 6\"/>\\r\\n  <w:LsdException Locked=\"false\" Priority=\"64\" Name=\"Medium Shading 2 Accent 6\"/>\\r\\n  <w:LsdException Locked=\"false\" Priority=\"65\" Name=\"Medium List 1 Accent 6\"/>\\r\\n  <w:LsdException Locked=\"false\" Priority=\"66\" Name=\"Medium List 2 Accent 6\"/>\\r\\n  <w:LsdException Locked=\"false\" Priority=\"67\" Name=\"Medium Grid 1 Accent 6\"/>\\r\\n  <w:LsdException Locked=\"false\" Priority=\"68\" Name=\"Medium Grid 2 Accent 6\"/>\\r\\n  <w:LsdException Locked=\"false\" Priority=\"69\" Name=\"Medium Grid 3 Accent 6\"/>\\r\\n  <w:LsdException Locked=\"false\" Priority=\"70\" Name=\"Dark List Accent 6\"/>\\r\\n  <w:LsdException Locked=\"false\" Priority=\"71\" Name=\"Colorful Shading Accent 6\"/>\\r\\n  <w:LsdException Locked=\"false\" Priority=\"72\" Name=\"Colorful List Accent 6\"/>\\r\\n  <w:LsdException Locked=\"false\" Priority=\"73\" Name=\"Colorful Grid Accent 6\"/>\\r\\n  <w:LsdException Locked=\"false\" Priority=\"19\" QFormat=\"true\"\\r\\n   Name=\"Subtle Emphasis\"/>\\r\\n  <w:LsdException Locked=\"false\" Priority=\"21\" QFormat=\"true\"\\r\\n   Name=\"Intense Emphasis\"/>\\r\\n  <w:LsdException Locked=\"false\" Priority=\"31\" QFormat=\"true\"\\r\\n   Name=\"Subtle Reference\"/>\\r\\n  <w:LsdException Locked=\"false\" Priority=\"32\" QFormat=\"true\"\\r\\n   Name=\"Intense Reference\"/>\\r\\n  <w:LsdException Locked=\"false\" Priority=\"33\" QFormat=\"true\" Name=\"Book Title\"/>\\r\\n  <w:LsdException Locked=\"false\" Priority=\"37\" SemiHidden=\"true\"\\r\\n   UnhideWhenUsed=\"true\" Name=\"Bibliography\"/>\\r\\n  <w:LsdException Locked=\"false\" Priority=\"39\" SemiHidden=\"true\"\\r\\n   UnhideWhenUsed=\"true\" QFormat=\"true\" Name=\"TOC Heading\"/>\\r\\n  <w:LsdException Locked=\"false\" Priority=\"41\" Name=\"Plain Table 1\"/>\\r\\n  <w:LsdException Locked=\"false\" Priority=\"42\" Name=\"Plain Table 2\"/>\\r\\n  <w:LsdException Locked=\"false\" Priority=\"43\" Name=\"Plain Table 3\"/>\\r\\n  <w:LsdException Locked=\"false\" Priority=\"44\" Name=\"Plain Table 4\"/>\\r\\n  <w:LsdException Locked=\"false\" Priority=\"45\" Name=\"Plain Table 5\"/>\\r\\n  <w:LsdException Locked=\"false\" Priority=\"40\" Name=\"Grid Table Light\"/>\\r\\n  <w:LsdException Locked=\"false\" Priority=\"46\" Name=\"Grid Table 1 Light\"/>\\r\\n  <w:LsdException Locked=\"false\" Priority=\"47\" Name=\"Grid Table 2\"/>\\r\\n  <w:LsdException Locked=\"false\" Priority=\"48\" Name=\"Grid Table 3\"/>\\r\\n  <w:LsdException Locked=\"false\" Priority=\"49\" Name=\"Grid Table 4\"/>\\r\\n  <w:LsdException Locked=\"false\" Priority=\"50\" Name=\"Grid Table 5 Dark\"/>\\r\\n  <w:LsdException Locked=\"false\" Priority=\"51\" Name=\"Grid Table 6 Colorful\"/>\\r\\n  <w:LsdException Locked=\"false\" Priority=\"52\" Name=\"Grid Table 7 Colorful\"/>\\r\\n  <w:LsdException Locked=\"false\" Priority=\"46\"\\r\\n   Name=\"Grid Table 1 Light Accent 1\"/>\\r\\n  <w:LsdException Locked=\"false\" Priority=\"47\" Name=\"Grid Table 2 Accent 1\"/>\\r\\n  <w:LsdException Locked=\"false\" Priority=\"48\" Name=\"Grid Table 3 Accent 1\"/>\\r\\n  <w:LsdException Locked=\"false\" Priority=\"49\" Name=\"Grid Table 4 Accent 1\"/>\\r\\n  <w:LsdException Locked=\"false\" Priority=\"50\" Name=\"Grid Table 5 Dark Accent 1\"/>\\r\\n  <w:LsdException Locked=\"false\" Priority=\"51\"\\r\\n   Name=\"Grid Table 6 Colorful Accent 1\"/>\\r\\n  <w:LsdException Locked=\"false\" Priority=\"52\"\\r\\n   Name=\"Grid Table 7 Colorful Accent 1\"/>\\r\\n  <w:LsdException Locked=\"false\" Priority=\"46\"\\r\\n   Name=\"Grid Table 1 Light Accent 2\"/>\\r\\n  <w:LsdException Locked=\"false\" Priority=\"47\" Name=\"Grid Table 2 Accent 2\"/>\\r\\n  <w:LsdException Locked=\"false\" Priority=\"48\" Name=\"Grid Table 3 Accent 2\"/>\\r\\n  <w:LsdException Locked=\"false\" Priority=\"49\" Name=\"Grid Table 4 Accent 2\"/>\\r\\n  <w:LsdException Locked=\"false\" Priority=\"50\" Name=\"Grid Table 5 Dark Accent 2\"/>\\r\\n  <w:LsdException Locked=\"false\" Priority=\"51\"\\r\\n   Name=\"Grid Table 6 Colorful Accent 2\"/>\\r\\n  <w:LsdException Locked=\"false\" Priority=\"52\"\\r\\n   Name=\"Grid Table 7 Colorful Accent 2\"/>\\r\\n  <w:LsdException Locked=\"false\" Priority=\"46\"\\r\\n   Name=\"Grid Table 1 Light Accent 3\"/>\\r\\n  <w:LsdException Locked=\"false\" Priority=\"47\" Name=\"Grid Table 2 Accent 3\"/>\\r\\n  <w:LsdException Locked=\"false\" Priority=\"48\" Name=\"Grid Table 3 Accent 3\"/>\\r\\n  <w:LsdException Locked=\"false\" Priority=\"49\" Name=\"Grid Table 4 Accent 3\"/>\\r\\n  <w:LsdException Locked=\"false\" Priority=\"50\" Name=\"Grid Table 5 Dark Accent 3\"/>\\r\\n  <w:LsdException Locked=\"false\" Priority=\"51\"\\r\\n   Name=\"Grid Table 6 Colorful Accent 3\"/>\\r\\n  <w:LsdException Locked=\"false\" Priority=\"52\"\\r\\n   Name=\"Grid Table 7 Colorful Accent 3\"/>\\r\\n  <w:LsdException Locked=\"false\" Priority=\"46\"\\r\\n   Name=\"Grid Table 1 Light Accent 4\"/>\\r\\n  <w:LsdException Locked=\"false\" Priority=\"47\" Name=\"Grid Table 2 Accent 4\"/>\\r\\n  <w:LsdException Locked=\"false\" Priority=\"48\" Name=\"Grid Table 3 Accent 4\"/>\\r\\n  <w:LsdException Locked=\"false\" Priority=\"49\" Name=\"Grid Table 4 Accent 4\"/>\\r\\n  <w:LsdException Locked=\"false\" Priority=\"50\" Name=\"Grid Table 5 Dark Accent 4\"/>\\r\\n  <w:LsdException Locked=\"false\" Priority=\"51\"\\r\\n   Name=\"Grid Table 6 Colorful Accent 4\"/>\\r\\n  <w:LsdException Locked=\"false\" Priority=\"52\"\\r\\n   Name=\"Grid Table 7 Colorful Accent 4\"/>\\r\\n  <w:LsdException Locked=\"false\" Priority=\"46\"\\r\\n   Name=\"Grid Table 1 Light Accent 5\"/>\\r\\n  <w:LsdException Locked=\"false\" Priority=\"47\" Name=\"Grid Table 2 Accent 5\"/>\\r\\n  <w:LsdException Locked=\"false\" Priority=\"48\" Name=\"Grid Table 3 Accent 5\"/>\\r\\n  <w:LsdException Locked=\"false\" Priority=\"49\" Name=\"Grid Table 4 Accent 5\"/>\\r\\n  <w:LsdException Locked=\"false\" Priority=\"50\" Name=\"Grid Table 5 Dark Accent 5\"/>\\r\\n  <w:LsdException Locked=\"false\" Priority=\"51\"\\r\\n   Name=\"Grid Table 6 Colorful Accent 5\"/>\\r\\n  <w:LsdException Locked=\"false\" Priority=\"52\"\\r\\n   Name=\"Grid Table 7 Colorful Accent 5\"/>\\r\\n  <w:LsdException Locked=\"false\" Priority=\"46\"\\r\\n   Name=\"Grid Table 1 Light Accent 6\"/>\\r\\n  <w:LsdException Locked=\"false\" Priority=\"47\" Name=\"Grid Table 2 Accent 6\"/>\\r\\n  <w:LsdException Locked=\"false\" Priority=\"48\" Name=\"Grid Table 3 Accent 6\"/>\\r\\n  <w:LsdException Locked=\"false\" Priority=\"49\" Name=\"Grid Table 4 Accent 6\"/>\\r\\n  <w:LsdException Locked=\"false\" Priority=\"50\" Name=\"Grid Table 5 Dark Accent 6\"/>\\r\\n  <w:LsdException Locked=\"false\" Priority=\"51\"\\r\\n   Name=\"Grid Table 6 Colorful Accent 6\"/>\\r\\n  <w:LsdException Locked=\"false\" Priority=\"52\"\\r\\n   Name=\"Grid Table 7 Colorful Accent 6\"/>\\r\\n  <w:LsdException Locked=\"false\" Priority=\"46\" Name=\"List Table 1 Light\"/>\\r\\n  <w:LsdException Locked=\"false\" Priority=\"47\" Name=\"List Table 2\"/>\\r\\n  <w:LsdException Locked=\"false\" Priority=\"48\" Name=\"List Table 3\"/>\\r\\n  <w:LsdException Locked=\"false\" Priority=\"49\" Name=\"List Table 4\"/>\\r\\n  <w:LsdException Locked=\"false\" Priority=\"50\" Name=\"List Table 5 Dark\"/>\\r\\n  <w:LsdException Locked=\"false\" Priority=\"51\" Name=\"List Table 6 Colorful\"/>\\r\\n  <w:LsdException Locked=\"false\" Priority=\"52\" Name=\"List Table 7 Colorful\"/>\\r\\n  <w:LsdException Locked=\"false\" Priority=\"46\"\\r\\n   Name=\"List Table 1 Light Accent 1\"/>\\r\\n  <w:LsdException Locked=\"false\" Priority=\"47\" Name=\"List Table 2 Accent 1\"/>\\r\\n  <w:LsdException Locked=\"false\" Priority=\"48\" Name=\"List Table 3 Accent 1\"/>\\r\\n  <w:LsdException Locked=\"false\" Priority=\"49\" Name=\"List Table 4 Accent 1\"/>\\r\\n  <w:LsdException Locked=\"false\" Priority=\"50\" Name=\"List Table 5 Dark Accent 1\"/>\\r\\n  <w:LsdException Locked=\"false\" Priority=\"51\"\\r\\n   Name=\"List Table 6 Colorful Accent 1\"/>\\r\\n  <w:LsdException Locked=\"false\" Priority=\"52\"\\r\\n   Name=\"List Table 7 Colorful Accent 1\"/>\\r\\n  <w:LsdException Locked=\"false\" Priority=\"46\"\\r\\n   Name=\"List Table 1 Light Accent 2\"/>\\r\\n  <w:LsdException Locked=\"false\" Priority=\"47\" Name=\"List Table 2 Accent 2\"/>\\r\\n  <w:LsdException Locked=\"false\" Priority=\"48\" Name=\"List Table 3 Accent 2\"/>\\r\\n  <w:LsdException Locked=\"false\" Priority=\"49\" Name=\"List Table 4 Accent 2\"/>\\r\\n  <w:LsdException Locked=\"false\" Priority=\"50\" Name=\"List Table 5 Dark Accent 2\"/>\\r\\n  <w:LsdException Locked=\"false\" Priority=\"51\"\\r\\n   Name=\"List Table 6 Colorful Accent 2\"/>\\r\\n  <w:LsdException Locked=\"false\" Priority=\"52\"\\r\\n   Name=\"List Table 7 Colorful Accent 2\"/>\\r\\n  <w:LsdException Locked=\"false\" Priority=\"46\"\\r\\n   Name=\"List Table 1 Light Accent 3\"/>\\r\\n  <w:LsdException Locked=\"false\" Priority=\"47\" Name=\"List Table 2 Accent 3\"/>\\r\\n  <w:LsdException Locked=\"false\" Priority=\"48\" Name=\"List Table 3 Accent 3\"/>\\r\\n  <w:LsdException Locked=\"false\" Priority=\"49\" Name=\"List Table 4 Accent 3\"/>\\r\\n  <w:LsdException Locked=\"false\" Priority=\"50\" Name=\"List Table 5 Dark Accent 3\"/>\\r\\n  <w:LsdException Locked=\"false\" Priority=\"51\"\\r\\n   Name=\"List Table 6 Colorful Accent 3\"/>\\r\\n  <w:LsdException Locked=\"false\" Priority=\"52\"\\r\\n   Name=\"List Table 7 Colorful Accent 3\"/>\\r\\n  <w:LsdException Locked=\"false\" Priority=\"46\"\\r\\n   Name=\"List Table 1 Light Accent 4\"/>\\r\\n  <w:LsdException Locked=\"false\" Priority=\"47\" Name=\"List Table 2 Accent 4\"/>\\r\\n  <w:LsdException Locked=\"false\" Priority=\"48\" Name=\"List Table 3 Accent 4\"/>\\r\\n  <w:LsdException Locked=\"false\" Priority=\"49\" Name=\"List Table 4 Accent 4\"/>\\r\\n  <w:LsdException Locked=\"false\" Priority=\"50\" Name=\"List Table 5 Dark Accent 4\"/>\\r\\n  <w:LsdException Locked=\"false\" Priority=\"51\"\\r\\n   Name=\"List Table 6 Colorful Accent 4\"/>\\r\\n  <w:LsdException Locked=\"false\" Priority=\"52\"\\r\\n   Name=\"List Table 7 Colorful Accent 4\"/>\\r\\n  <w:LsdException Locked=\"false\" Priority=\"46\"\\r\\n   Name=\"List Table 1 Light Accent 5\"/>\\r\\n  <w:LsdException Locked=\"false\" Priority=\"47\" Name=\"List Table 2 Accent 5\"/>\\r\\n  <w:LsdException Locked=\"false\" Priority=\"48\" Name=\"List Table 3 Accent 5\"/>\\r\\n  <w:LsdException Locked=\"false\" Priority=\"49\" Name=\"List Table 4 Accent 5\"/>\\r\\n  <w:LsdException Locked=\"false\" Priority=\"50\" Name=\"List Table 5 Dark Accent 5\"/>\\r\\n  <w:LsdException Locked=\"false\" Priority=\"51\"\\r\\n   Name=\"List Table 6 Colorful Accent 5\"/>\\r\\n  <w:LsdException Locked=\"false\" Priority=\"52\"\\r\\n   Name=\"List Table 7 Colorful Accent 5\"/>\\r\\n  <w:LsdException Locked=\"false\" Priority=\"46\"\\r\\n   Name=\"List Table 1 Light Accent 6\"/>\\r\\n  <w:LsdException Locked=\"false\" Priority=\"47\" Name=\"List Table 2 Accent 6\"/>\\r\\n  <w:LsdException Locked=\"false\" Priority=\"48\" Name=\"List Table 3 Accent 6\"/>\\r\\n  <w:LsdException Locked=\"false\" Priority=\"49\" Name=\"List Table 4 Accent 6\"/>\\r\\n  <w:LsdException Locked=\"false\" Priority=\"50\" Name=\"List Table 5 Dark Accent 6\"/>\\r\\n  <w:LsdException Locked=\"false\" Priority=\"51\"\\r\\n   Name=\"List Table 6 Colorful Accent 6\"/>\\r\\n  <w:LsdException Locked=\"false\" Priority=\"52\"\\r\\n   Name=\"List Table 7 Colorful Accent 6\"/>\\r\\n </w:LatentStyles>\\r\\n</xml><![endif]-->\\r\\n<style>\\r\\n<!--\\r\\n /* Font Definitions */\\r\\n @font-face\\r\\n\\t{font-family:\"Cambria Math\";\\r\\n\\tpanose-1:2 4 5 3 5 4 6 3 2 4;\\r\\n\\tmso-font-charset:1;\\r\\n\\tmso-generic-font-family:roman;\\r\\n\\tmso-font-format:other;\\r\\n\\tmso-font-pitch:variable;\\r\\n\\tmso-font-signature:0 0 0 0 0 0;}\\r\\n /* Style Definitions */\\r\\n p.MsoNormal, li.MsoNormal, div.MsoNormal\\r\\n\\t{mso-style-unhide:no;\\r\\n\\tmso-style-qformat:yes;\\r\\n\\tmso-style-parent:\"\";\\r\\n\\tmargin:0in;\\r\\n\\tmargin-bottom:.0001pt;\\r\\n\\tmso-pagination:widow-orphan;\\r\\n\\tfont-size:12.0pt;\\r\\n\\tfont-family:\"Times New Roman\",\"serif\";\\r\\n\\tmso-fareast-font-family:\"Times New Roman\";\\r\\n\\tmso-fareast-theme-font:minor-fareast;}\\r\\na:link, span.MsoHyperlink\\r\\n\\t{mso-style-noshow:yes;\\r\\n\\tmso-style-priority:99;\\r\\n\\tcolor:blue;\\r\\n\\ttext-decoration:underline;\\r\\n\\ttext-underline:single;}\\r\\na:visited, span.MsoHyperlinkFollowed\\r\\n\\t{mso-style-noshow:yes;\\r\\n\\tmso-style-priority:99;\\r\\n\\tcolor:purple;\\r\\n\\ttext-decoration:underline;\\r\\n\\ttext-underline:single;}\\r\\np\\r\\n\\t{mso-style-noshow:yes;\\r\\n\\tmso-style-priority:99;\\r\\n\\tmso-margin-top-alt:auto;\\r\\n\\tmargin-right:0in;\\r\\n\\tmso-margin-bottom-alt:auto;\\r\\n\\tmargin-left:0in;\\r\\n\\tmso-pagination:widow-orphan;\\r\\n\\tfont-size:12.0pt;\\r\\n\\tfont-family:\"Times New Roman\",\"serif\";\\r\\n\\tmso-fareast-font-family:\"Times New Roman\";\\r\\n\\tmso-fareast-theme-font:minor-fareast;}\\r\\n.MsoChpDefault\\r\\n\\t{mso-style-type:export-only;\\r\\n\\tmso-default-props:yes;\\r\\n\\tfont-size:10.0pt;\\r\\n\\tmso-ansi-font-size:10.0pt;\\r\\n\\tmso-bidi-font-size:10.0pt;}\\r\\n@page WordSection1\\r\\n\\t{size:8.5in 11.0in;\\r\\n\\tmargin:1.0in 1.0in 1.0in 1.0in;\\r\\n\\tmso-header-margin:.5in;\\r\\n\\tmso-footer-margin:.5in;\\r\\n\\tmso-paper-source:0;}\\r\\ndiv.WordSection1\\r\\n\\t{page:WordSection1;}\\r\\n-->\\r\\n</style>\\r\\n<!--[if gte mso 10]>\\r\\n<style>\\r\\n /* Style Definitions */\\r\\n table.MsoNormalTable\\r\\n\\t{mso-style-name:\"Table Normal\";\\r\\n\\tmso-tstyle-rowband-size:0;\\r\\n\\tmso-tstyle-colband-size:0;\\r\\n\\tmso-style-noshow:yes;\\r\\n\\tmso-style-priority:99;\\r\\n\\tmso-style-parent:\"\";\\r\\n\\tmso-padding-alt:0in 5.4pt 0in 5.4pt;\\r\\n\\tmso-para-margin:0in;\\r\\n\\tmso-para-margin-bottom:.0001pt;\\r\\n\\tmso-pagination:widow-orphan;\\r\\n\\tfont-size:10.0pt;\\r\\n\\tfont-family:\"Times New Roman\",\"serif\";}\\r\\n</style>\\r\\n<![endif]--><!--[if gte mso 9]><xml>\\r\\n <o:shapedefaults v:ext=\"edit\" spidmax=\"1026\"/>\\r\\n</xml><![endif]--><!--[if gte mso 9]><xml>\\r\\n <o:shapelayout v:ext=\"edit\">\\r\\n  <o:idmap v:ext=\"edit\" data=\"1\"/>\\r\\n </o:shapelayout></xml><![endif]-->\\r\\n</head>\\r\\n\\r\\n<body lang=EN-US link=blue vlink=purple style=\\'tab-interval:.5in\\'>\\r\\n\\r\\n<div class=WordSection1>\\r\\n\\r\\n<p class=MsoNormal align=center style=\\'text-align:center\\'><span\\r\\nstyle=\\'font-family:\"Arial\",\"sans-serif\";mso-fareast-font-family:\"Times New Roman\"\\'>&nbsp;<a\\r\\nhref=\"http://www.nwlink.com/~ufocntr\">NUFORC Home Page</a></span><span\\r\\nstyle=\\'mso-fareast-font-family:\"Times New Roman\"\\'> <br>\\r\\n</span><span style=\\'font-family:\"Arial\",\"sans-serif\";mso-fareast-font-family:\\r\\n\"Times New Roman\"\\'>Web Report Indexes : <a\\r\\nhref=\"http://www.nuforc.org/webreports/ndxevent.html\">by Event Date</a> | <a\\r\\nhref=\"http://www.nuforc.org/webreports/ndxloc.html\">by Location</a> | <a\\r\\nhref=\"http://www.nuforc.org/webreports/ndxshape.html\">by Shape</a> | <a\\r\\nhref=\"http://www.nuforc.org/webreports/ndxpost.html\">by Posting Date</a></span><span\\r\\nstyle=\\'mso-fareast-font-family:\"Times New Roman\"\\'><o:p></o:p></span></p>\\r\\n\\r\\n</div>\\r\\n\\r\\n<!--The following token places all object output inside the <BODY> tag.--><TABLE BORDER=1 BGCOLOR=#ffffff CELLSPACING=0><FONT FACE=\"Calibri\" COLOR=#000000><CAPTION><B>National UFO Reporting Center</B></CAPTION></FONT>\\r\\n\\r\\n<THEAD>\\r\\n<TR>\\r\\n<TH BGCOLOR=#c0c0c0 BORDERCOLOR=#000000 ><FONT style=FONT-SIZE:11pt FACE=\"Calibri\" COLOR=#000000>Sighting Report</FONT></TH>\\r\\n\\r\\n</TR>\\r\\n</THEAD>\\r\\n<TBODY>\\r\\n<TR VALIGN=TOP>\\r\\n<TD BORDERCOLOR=#d0d7e5 ><FONT style=FONT-SIZE:11pt FACE=\"Calibri\" COLOR=#000000>Occurred : 5/6/2017 05:00  (Entered as : 05/06/2017 05:00)<BR>Reported: 5/6/2017 4:10:01 AM 04:10<BR>Posted: 5/6/2017<BR>Location: Camp McGregor, NM<BR>Shape: Light<BR>Duration:10 minutes</FONT></TD>\\r\\n\\r\\n</TR>\\r\\n\\r\\n<TR VALIGN=TOP>\\r\\n<TD BORDERCOLOR=#d0d7e5 ><FONT style=FONT-SIZE:11pt FACE=\"Calibri\" COLOR=#000000>Light seen over mountain\\'s east of Camp McGregor.  It hovered in one spot.  It looked like a helicopter light at first.  But it was way to bright.  Then it went to a higher height.  Stayed there for a while.  Then disappeared.<BR><BR><BR>((NUFORC Note:  Report appears to us to be consistent with the sighting of Venus.  PD))</FONT></TD>\\r\\n\\r\\n</TR>\\r\\n</TBODY>\\r\\n<TFOOT></TFOOT>\\r\\n</TABLE>\\r\\n</body>\\r\\n\\r\\n</html>\\r\\n\\x00'"
      ]
     },
     "execution_count": 13,
     "metadata": {},
     "output_type": "execute_result"
    }
   ],
   "source": [
    "ufo_html = ufo.html\n",
    "ufo_html[0]"
   ]
  },
  {
   "cell_type": "code",
   "execution_count": 15,
   "metadata": {},
   "outputs": [],
   "source": [
    "from bs4 import BeautifulSoup\n",
    "soup = BeautifulSoup(ufo_html[0], 'html.parser')"
   ]
  },
  {
   "cell_type": "code",
   "execution_count": 16,
   "metadata": {},
   "outputs": [],
   "source": [
    "table=soup.find('tbody')"
   ]
  },
  {
   "cell_type": "code",
   "execution_count": 31,
   "metadata": {},
   "outputs": [],
   "source": [
    "X = table.text.strip()\n"
   ]
  },
  {
   "cell_type": "code",
   "execution_count": 35,
   "metadata": {},
   "outputs": [],
   "source": [
    "import re\n",
    "def data_pipeline(data):\n",
    "    '''\n",
    "    input: raw dataframe with html column\n",
    "\n",
    "    '''\n",
    "\n",
    "    contents = []\n",
    "    for row in data.html:\n",
    "        soup = BeautifulSoup(row, \"html.parser\")\n",
    "        table = soup.find(\"tbody\")\n",
    "        text = table.text.strip()\n",
    "        a = re.findall(r'(Duration.+?\\n\\n\\n)(.+)(\\(\\(NUFORC Note:)?', text)\n",
    "        try:\n",
    "            contents.append(a[0][1])\n",
    "        except:\n",
    "            pass\n",
    "\n",
    "    return contents\n",
    "\n",
    "contents = data_pipeline(ufo)"
   ]
  },
  {
   "cell_type": "code",
   "execution_count": 37,
   "metadata": {},
   "outputs": [],
   "source": [
    "data = pd.DataFrame(contents)"
   ]
  },
  {
   "cell_type": "code",
   "execution_count": 41,
   "metadata": {},
   "outputs": [
    {
     "data": {
      "text/plain": [
       "0     Light seen over mountain's east of Camp McGreg...\n",
       "1     Light in sky stationary.  Not a airplane or an...\n",
       "2     Flying saucer descends, possibly lands in Nort...\n",
       "3     While letting my dog out, a very bright white ...\n",
       "4     A fire ball was moving in the atmosphere while...\n",
       "                            ...                        \n",
       "94    We got home from working the 2-10 shift at sec...\n",
       "95    Brown saucer with red and green lights seen in...\n",
       "96    There was a reflection on the window of a circ...\n",
       "97    i was observing what I thought to be a large e...\n",
       "98    TR3B Absolutely Certain!I saw the TR3B in the ...\n",
       "Name: 0, Length: 99, dtype: object"
      ]
     },
     "execution_count": 41,
     "metadata": {},
     "output_type": "execute_result"
    }
   ],
   "source": [
    "X = data[0]\n",
    "X"
   ]
  },
  {
   "cell_type": "code",
   "execution_count": 48,
   "metadata": {},
   "outputs": [],
   "source": [
    "from sklearn.feature_extraction.text import TfidfVectorizer, CountVectorizer\n",
    "from sklearn.cluster import KMeans\n",
    "from sklearn.decomposition import NMF\n",
    "\n",
    "# removes punctuation and stopwords. replaces strings with lowercase and outputs top 1000 features. \n",
    "tfidf = TfidfVectorizer(lowercase=True, stop_words='english', max_features = 1000)\n",
    "\n",
    "tfidf_ngrams = TfidfVectorizer(lowercase=True, stop_words='english', max_features = 1000, ngram_range=(1,2))\n",
    "\n",
    "count_vec = TfidfVectorizer(lowercase=True, stop_words='english', max_features = 1000)\n",
    "\n",
    "count_vec_ngrams = TfidfVectorizer(lowercase=True, stop_words='english', max_features = 1000, ngram_range=(1,2))\n",
    "\n",
    "for transformers in [tfidf,tfidf_ngrams,count_vec,count_vec_ngrams]:\n",
    "    transformers.fit(X)\n",
    "    "
   ]
  },
  {
   "cell_type": "code",
   "execution_count": 46,
   "metadata": {},
   "outputs": [
    {
     "ename": "ImportError",
     "evalue": "cannot import name 'NMF' from 'sklearn.cluster' (/home/daniel/anaconda3/lib/python3.7/site-packages/sklearn/cluster/__init__.py)",
     "output_type": "error",
     "traceback": [
      "\u001b[0;31m---------------------------------------------------------------------------\u001b[0m",
      "\u001b[0;31mImportError\u001b[0m                               Traceback (most recent call last)",
      "\u001b[0;32m<ipython-input-46-d4e2cc0eb38c>\u001b[0m in \u001b[0;36m<module>\u001b[0;34m\u001b[0m\n\u001b[0;32m----> 1\u001b[0;31m \u001b[0;32mfrom\u001b[0m \u001b[0msklearn\u001b[0m\u001b[0;34m.\u001b[0m\u001b[0mcluster\u001b[0m \u001b[0;32mimport\u001b[0m \u001b[0mKMeans\u001b[0m\u001b[0;34m,\u001b[0m \u001b[0mNMF\u001b[0m\u001b[0;34m\u001b[0m\u001b[0;34m\u001b[0m\u001b[0m\n\u001b[0m",
      "\u001b[0;31mImportError\u001b[0m: cannot import name 'NMF' from 'sklearn.cluster' (/home/daniel/anaconda3/lib/python3.7/site-packages/sklearn/cluster/__init__.py)"
     ]
    }
   ],
   "source": []
  },
  {
   "cell_type": "code",
   "execution_count": null,
   "metadata": {},
   "outputs": [],
   "source": []
  }
 ],
 "metadata": {
  "kernelspec": {
   "display_name": "Python 3",
   "language": "python",
   "name": "python3"
  },
  "language_info": {
   "codemirror_mode": {
    "name": "ipython",
    "version": 3
   },
   "file_extension": ".py",
   "mimetype": "text/x-python",
   "name": "python",
   "nbconvert_exporter": "python",
   "pygments_lexer": "ipython3",
   "version": "3.7.7"
  }
 },
 "nbformat": 4,
 "nbformat_minor": 4
}
